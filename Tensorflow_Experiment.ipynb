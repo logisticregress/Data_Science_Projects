{
 "cells": [
  {
   "cell_type": "markdown",
   "metadata": {},
   "source": [
    "# Tensorflow 2.0 Experiment "
   ]
  },
  {
   "cell_type": "markdown",
   "metadata": {},
   "source": [
    "this code trains a Recurrent Nueral Network to do multiclass classification using Tensorflow 2.0 "
   ]
  },
  {
   "cell_type": "code",
   "execution_count": 88,
   "metadata": {},
   "outputs": [],
   "source": [
    "import tensorflow as tf\n",
    "import matplotlib.pyplot as plt"
   ]
  },
  {
   "cell_type": "code",
   "execution_count": 17,
   "metadata": {},
   "outputs": [
    {
     "name": "stdout",
     "output_type": "stream",
     "text": [
      "2.0.0-alpha0\n"
     ]
    }
   ],
   "source": [
    "import tensorflow as tf\n",
    "print(tf.__version__)"
   ]
  },
  {
   "cell_type": "code",
   "execution_count": 82,
   "metadata": {},
   "outputs": [],
   "source": [
    "import pandas as pd \n",
    "import numpy as np\n",
    "import nltk\n",
    "from sklearn import model_selection, preprocessing, linear_model, naive_bayes, metrics, svm\n",
    "from sklearn.feature_extraction.text import TfidfVectorizer\n",
    "from sklearn.model_selection import train_test_split\n",
    "from sklearn.pipeline import Pipeline\n",
    "from sklearn.linear_model import SGDClassifier\n",
    "from sklearn.preprocessing import LabelEncoder, OneHotEncoder\n",
    "from keras.utils.np_utils import to_categorical\n",
    "from sklearn.utils import shuffle\n",
    "from tensorflow.keras.models import Sequential \n",
    "from tensorflow.keras.layers import Dense \n",
    "from keras.utils import np_utils\n",
    "from sklearn.preprocessing import LabelEncoder\n",
    "from sklearn import preprocessing, model_selection"
   ]
  },
  {
   "cell_type": "code",
   "execution_count": 96,
   "metadata": {},
   "outputs": [],
   "source": [
    "#helper function to plot graphs\n",
    "def plot_graphs(history, string):\n",
    "    plt.plot(history.history[string])\n",
    "    plt.plot(history.history['val_'+string])\n",
    "    plt.xlabel(\"Epochs\")\n",
    "    plt.ylabel(string)\n",
    "    plt.legend([string, 'val_'+string])\n",
    "    plt.show()"
   ]
  },
  {
   "cell_type": "code",
   "execution_count": 6,
   "metadata": {},
   "outputs": [],
   "source": [
    "#import the data "
   ]
  },
  {
   "cell_type": "code",
   "execution_count": 8,
   "metadata": {},
   "outputs": [
    {
     "data": {
      "text/html": [
       "<div>\n",
       "<style scoped>\n",
       "    .dataframe tbody tr th:only-of-type {\n",
       "        vertical-align: middle;\n",
       "    }\n",
       "\n",
       "    .dataframe tbody tr th {\n",
       "        vertical-align: top;\n",
       "    }\n",
       "\n",
       "    .dataframe thead th {\n",
       "        text-align: right;\n",
       "    }\n",
       "</style>\n",
       "<table border=\"1\" class=\"dataframe\">\n",
       "  <thead>\n",
       "    <tr style=\"text-align: right;\">\n",
       "      <th></th>\n",
       "      <th></th>\n",
       "      <th>LEAF_CLASS_ID</th>\n",
       "      <th>LEAF_CLASS_NAME</th>\n",
       "      <th>ITEM_PUB_KEY</th>\n",
       "      <th>ITEM_NUMBER</th>\n",
       "      <th>VENDOR_CATALOG_NUMBER</th>\n",
       "      <th>PRODUCT_NAME</th>\n",
       "      <th>DESCRIPT</th>\n",
       "      <th>LEAF_CLASS_ID_COUNT</th>\n",
       "    </tr>\n",
       "  </thead>\n",
       "  <tbody>\n",
       "    <tr>\n",
       "      <th>0</th>\n",
       "      <td>1</td>\n",
       "      <td>739</td>\n",
       "      <td>Remote Controls</td>\n",
       "      <td>123826525</td>\n",
       "      <td>32</td>\n",
       "      <td>SRT-PC</td>\n",
       "      <td>REMOTE CONTROL</td>\n",
       "      <td>SPCTRM SRT-PC REMOTE CONTROL</td>\n",
       "      <td>9</td>\n",
       "    </tr>\n",
       "    <tr>\n",
       "      <th>1</th>\n",
       "      <td>2</td>\n",
       "      <td>739</td>\n",
       "      <td>Remote Controls</td>\n",
       "      <td>123826526</td>\n",
       "      <td>33</td>\n",
       "      <td>SRT-ORB</td>\n",
       "      <td>REMOTE CONTROL</td>\n",
       "      <td>SPCTRM SRT-ORB REMOTE CONTROL</td>\n",
       "      <td>9</td>\n",
       "    </tr>\n",
       "    <tr>\n",
       "      <th>2</th>\n",
       "      <td>3</td>\n",
       "      <td>739</td>\n",
       "      <td>Remote Controls</td>\n",
       "      <td>123826531</td>\n",
       "      <td>38</td>\n",
       "      <td>SRC-SN</td>\n",
       "      <td>REMOTE CONTROL</td>\n",
       "      <td>SPCTRM SRC-SN REMOTE CONTROL</td>\n",
       "      <td>9</td>\n",
       "    </tr>\n",
       "    <tr>\n",
       "      <th>3</th>\n",
       "      <td>4</td>\n",
       "      <td>739</td>\n",
       "      <td>Remote Controls</td>\n",
       "      <td>123826532</td>\n",
       "      <td>39</td>\n",
       "      <td>SRC-PC</td>\n",
       "      <td>REMOTE CONTROL</td>\n",
       "      <td>SPCTRM SRC-PC REMOTE CONTROL</td>\n",
       "      <td>9</td>\n",
       "    </tr>\n",
       "    <tr>\n",
       "      <th>4</th>\n",
       "      <td>5</td>\n",
       "      <td>739</td>\n",
       "      <td>Remote Controls</td>\n",
       "      <td>123826524</td>\n",
       "      <td>31</td>\n",
       "      <td>SRT-SN</td>\n",
       "      <td>REMOTE CONTROL</td>\n",
       "      <td>SPCTRM SRT-SN REMOTE CONTROL</td>\n",
       "      <td>9</td>\n",
       "    </tr>\n",
       "  </tbody>\n",
       "</table>\n",
       "</div>"
      ],
      "text/plain": [
       "        LEAF_CLASS_ID  LEAF_CLASS_NAME  ITEM_PUB_KEY  ITEM_NUMBER  \\\n",
       "0    1            739  Remote Controls     123826525           32   \n",
       "1    2            739  Remote Controls     123826526           33   \n",
       "2    3            739  Remote Controls     123826531           38   \n",
       "3    4            739  Remote Controls     123826532           39   \n",
       "4    5            739  Remote Controls     123826524           31   \n",
       "\n",
       "  VENDOR_CATALOG_NUMBER    PRODUCT_NAME                       DESCRIPT  \\\n",
       "0                SRT-PC  REMOTE CONTROL   SPCTRM SRT-PC REMOTE CONTROL   \n",
       "1               SRT-ORB  REMOTE CONTROL  SPCTRM SRT-ORB REMOTE CONTROL   \n",
       "2                SRC-SN  REMOTE CONTROL   SPCTRM SRC-SN REMOTE CONTROL   \n",
       "3                SRC-PC  REMOTE CONTROL   SPCTRM SRC-PC REMOTE CONTROL   \n",
       "4                SRT-SN  REMOTE CONTROL   SPCTRM SRT-SN REMOTE CONTROL   \n",
       "\n",
       "   LEAF_CLASS_ID_COUNT  \n",
       "0                    9  \n",
       "1                    9  \n",
       "2                    9  \n",
       "3                    9  \n",
       "4                    9  "
      ]
     },
     "execution_count": 8,
     "metadata": {},
     "output_type": "execute_result"
    }
   ],
   "source": [
    "df = pd.read_csv(\"c:/Users/rclukey/Google Drive/inventory_class/new_training_LC.csv\")\n",
    "df.head()"
   ]
  },
  {
   "cell_type": "code",
   "execution_count": 47,
   "metadata": {},
   "outputs": [
    {
     "data": {
      "text/plain": [
       "(10000, 9)"
      ]
     },
     "execution_count": 47,
     "metadata": {},
     "output_type": "execute_result"
    }
   ],
   "source": [
    "df.shape"
   ]
  },
  {
   "cell_type": "code",
   "execution_count": 105,
   "metadata": {},
   "outputs": [],
   "source": [
    "tfidf_vect = TfidfVectorizer(stop_words='english', sublinear_tf=True, strip_accents='unicode', analyzer='char', \n",
    "                              token_pattern=r'\\w{2,}', max_df=.25, ngram_range=(1,3), max_features=10000)"
   ]
  },
  {
   "cell_type": "code",
   "execution_count": 106,
   "metadata": {},
   "outputs": [],
   "source": [
    "X = df['DESCRIPT']"
   ]
  },
  {
   "cell_type": "code",
   "execution_count": 67,
   "metadata": {},
   "outputs": [
    {
     "data": {
      "text/plain": [
       "168"
      ]
     },
     "execution_count": 67,
     "metadata": {},
     "output_type": "execute_result"
    }
   ],
   "source": [
    "Y = df['LEAF_CLASS_ID']\n",
    "len(Y)\n",
    "Y.nunique()"
   ]
  },
  {
   "cell_type": "code",
   "execution_count": 42,
   "metadata": {},
   "outputs": [
    {
     "name": "stdout",
     "output_type": "stream",
     "text": [
      "tf.Tensor(\n",
      "[[0. 0. 0. ... 0. 0. 0.]\n",
      " [0. 0. 0. ... 0. 0. 0.]\n",
      " [0. 0. 0. ... 0. 0. 0.]\n",
      " ...\n",
      " [0. 0. 0. ... 0. 0. 0.]\n",
      " [0. 0. 0. ... 0. 0. 0.]\n",
      " [0. 0. 0. ... 0. 0. 0.]], shape=(10000, 168), dtype=float32)\n"
     ]
    }
   ],
   "source": [
    "Y_oh = tf.one_hot(indices=Y, depth=168)\n",
    "print(Y_oh)"
   ]
  },
  {
   "cell_type": "code",
   "execution_count": 71,
   "metadata": {},
   "outputs": [
    {
     "name": "stdout",
     "output_type": "stream",
     "text": [
      "[[1. 0. 0. ... 0. 0. 0.]\n",
      " [1. 0. 0. ... 0. 0. 0.]\n",
      " [1. 0. 0. ... 0. 0. 0.]\n",
      " ...\n",
      " [0. 0. 0. ... 0. 0. 1.]\n",
      " [0. 0. 0. ... 0. 0. 1.]\n",
      " [0. 0. 0. ... 0. 0. 1.]]\n"
     ]
    }
   ],
   "source": [
    "encoder = LabelEncoder()\n",
    "encoder.fit(Y)\n",
    "Y = encoder.transform(Y)\n",
    "y = np_utils.to_categorical(Y)\n",
    "print(y)"
   ]
  },
  {
   "cell_type": "code",
   "execution_count": 107,
   "metadata": {},
   "outputs": [
    {
     "data": {
      "text/plain": [
       "TfidfVectorizer(analyzer='char', binary=False, decode_error='strict',\n",
       "        dtype=<class 'numpy.float64'>, encoding='utf-8', input='content',\n",
       "        lowercase=True, max_df=0.25, max_features=10000, min_df=1,\n",
       "        ngram_range=(1, 3), norm='l2', preprocessor=None, smooth_idf=True,\n",
       "        stop_words='english', strip_accents='unicode', sublinear_tf=True,\n",
       "        token_pattern='\\\\w{2,}', tokenizer=None, use_idf=True,\n",
       "        vocabulary=None)"
      ]
     },
     "execution_count": 107,
     "metadata": {},
     "output_type": "execute_result"
    }
   ],
   "source": [
    "tfidf_vect.fit(df['DESCRIPT'])"
   ]
  },
  {
   "cell_type": "code",
   "execution_count": 108,
   "metadata": {},
   "outputs": [],
   "source": [
    "X_tfidf = tfidf_vect.transform(X)"
   ]
  },
  {
   "cell_type": "code",
   "execution_count": 109,
   "metadata": {},
   "outputs": [
    {
     "data": {
      "text/plain": [
       "<10000x10000 sparse matrix of type '<class 'numpy.float64'>'\n",
       "\twith 564431 stored elements in Compressed Sparse Row format>"
      ]
     },
     "execution_count": 109,
     "metadata": {},
     "output_type": "execute_result"
    }
   ],
   "source": [
    "X_tfidf"
   ]
  },
  {
   "cell_type": "code",
   "execution_count": 14,
   "metadata": {},
   "outputs": [],
   "source": [
    "xtrain_tfidf =  tfidf_vect.transform(train_x)\n",
    "xvalid_tfidf =  tfidf_vect.transform(valid_x)"
   ]
  },
  {
   "cell_type": "code",
   "execution_count": 110,
   "metadata": {},
   "outputs": [],
   "source": [
    "train_x, test_x, train_y, test_y = model_selection.train_test_split(X_tfidf,y, test_size=0.33)"
   ]
  },
  {
   "cell_type": "code",
   "execution_count": 114,
   "metadata": {},
   "outputs": [],
   "source": [
    "BUFFER_SIZE = 10000\n",
    "BATCH_SIZE = 64"
   ]
  },
  {
   "cell_type": "code",
   "execution_count": 103,
   "metadata": {},
   "outputs": [],
   "source": [
    "from tensorflow.keras.layers import Dense, Dropout, Activation, Conv1D, GlobalMaxPooling1D"
   ]
  },
  {
   "cell_type": "code",
   "execution_count": 124,
   "metadata": {},
   "outputs": [
    {
     "name": "stdout",
     "output_type": "stream",
     "text": [
      "Train on 4690 samples, validate on 2010 samples\n",
      "Epoch 1/10\n",
      "4690/4690 [==============================] - 22s 5ms/sample - loss: 2.4042 - accuracy: 0.4840 - val_loss: 1.3189 - val_accuracy: 0.7114\n",
      "Epoch 2/10\n",
      "4690/4690 [==============================] - 21s 5ms/sample - loss: 0.9889 - accuracy: 0.7755 - val_loss: 0.8843 - val_accuracy: 0.8279\n",
      "Epoch 3/10\n",
      "4690/4690 [==============================] - 21s 4ms/sample - loss: 0.6006 - accuracy: 0.8595 - val_loss: 0.7796 - val_accuracy: 0.8602\n",
      "Epoch 4/10\n",
      "4690/4690 [==============================] - 21s 5ms/sample - loss: 0.3828 - accuracy: 0.9068 - val_loss: 0.6026 - val_accuracy: 0.8970\n",
      "Epoch 5/10\n",
      "4690/4690 [==============================] - 22s 5ms/sample - loss: 0.3157 - accuracy: 0.9179 - val_loss: 0.7130 - val_accuracy: 0.8920\n",
      "Epoch 6/10\n",
      "4690/4690 [==============================] - 21s 5ms/sample - loss: 0.2200 - accuracy: 0.9409 - val_loss: 0.5968 - val_accuracy: 0.9154\n",
      "Epoch 7/10\n",
      "4690/4690 [==============================] - 21s 4ms/sample - loss: 0.1611 - accuracy: 0.9554 - val_loss: 0.5982 - val_accuracy: 0.9134\n",
      "Epoch 8/10\n",
      "4690/4690 [==============================] - 21s 5ms/sample - loss: 0.1347 - accuracy: 0.9631 - val_loss: 0.5830 - val_accuracy: 0.9144\n",
      "Epoch 9/10\n",
      "4690/4690 [==============================] - 21s 5ms/sample - loss: 0.1595 - accuracy: 0.9597 - val_loss: 0.5795 - val_accuracy: 0.9234\n",
      "Epoch 10/10\n",
      "4690/4690 [==============================] - 21s 5ms/sample - loss: 0.1057 - accuracy: 0.9706 - val_loss: 0.5957 - val_accuracy: 0.9174\n",
      "3300/3300 [==============================] - 2s 482us/sample - loss: 0.7462 - accuracy: 0.8985\n",
      "\n",
      "accuracy: 89.85%\n"
     ]
    }
   ],
   "source": [
    "input_dim = 10000\n",
    "\n",
    "model = Sequential()\n",
    "model.add(Dense(64, input_dim = input_dim, activation = 'relu'))\n",
    "model.add(Dense(256, activation = 'relu'))\n",
    "model.add(Dropout(0.2))\n",
    "model.add(Dense(3000, activation = 'relu'))\n",
    "model.add(Dropout(0.2))\n",
    "model.add(Dense(1024, activation = 'relu'))\n",
    "model.add(Dropout(0.2))\n",
    "model.add(Dense(168, activation = 'softmax'))\n",
    "\n",
    "model.compile(loss = 'categorical_crossentropy', optimizer = 'adam', metrics=['accuracy'])\n",
    "history = model.fit(train_x, train_y, epochs=10, batch_size=10, validation_split=0.3)\n",
    "scores = model.evaluate(test_x, test_y)\n",
    "print(\"\\n%s: %.2f%%\" % (model.metrics_names[1], scores[1]*100))"
   ]
  },
  {
   "cell_type": "code",
   "execution_count": 125,
   "metadata": {},
   "outputs": [
    {
     "data": {
      "image/png": "[encoded data removed]",
      "text/plain": [
       "<Figure size 432x288 with 1 Axes>"
      ]
     },
     "metadata": {
      "needs_background": "light"
     },
     "output_type": "display_data"
    }
   ],
   "source": [
    "plot_graphs(history,  'accuracy')"
   ]
  },
  {
   "cell_type": "code",
   "execution_count": 126,
   "metadata": {},
   "outputs": [
    {
     "data": {
      "image/png": "[encoded data removed]",
      "text/plain": [
       "<Figure size 432x288 with 1 Axes>"
      ]
     },
     "metadata": {
      "needs_background": "light"
     },
     "output_type": "display_data"
    }
   ],
   "source": [
    "plot_graphs(history, 'loss')"
   ]
  },
  {
   "cell_type": "code",
   "execution_count": null,
   "metadata": {},
   "outputs": [],
   "source": [
    "tokenizer = info.features['text'].encoder"
   ]
  },
  {
   "cell_type": "code",
   "execution_count": 116,
   "metadata": {},
   "outputs": [],
   "source": [
    "model = tf.keras.Sequential([\n",
    "    tf.keras.layers.Bidirectional(tf.keras.layers.LSTM(64)),\n",
    "    tf.keras.layers.Dense(64, activation='relu'),\n",
    "    tf.keras.layers.Dense(1, activation='softmax')\n",
    "])"
   ]
  },
  {
   "cell_type": "code",
   "execution_count": 117,
   "metadata": {},
   "outputs": [],
   "source": [
    "model.compile(loss='categorical_crossentropy',\n",
    "              optimizer='adam',\n",
    "              metrics=['accuracy'])"
   ]
  },
  {
   "cell_type": "code",
   "execution_count": 118,
   "metadata": {},
   "outputs": [
    {
     "ename": "ValueError",
     "evalue": "Please provide as model inputs either a single array or a list of arrays. You passed: x=  (0, 154)\t0.07979262662791708\n  (0, 167)\t0.14680568429210422\n  (0, 336)\t0.08330825645691099\n  (0, 350)\t0.1439363372907167\n  (0, 429)\t0.10024374428625953\n  (0, 435)\t0.10572985686480439\n  (0, 616)\t0.15008625049478638\n  (0, 1171)\t0.15927478520425659\n  (0, 1179)\t0.1187508090131494\n  (0, 1183)\t0.12716420420055394\n  (0, 1228)\t0.17051167628023745\n  (0, 1230)\t0.18946316334819815\n  (0, 1473)\t0.20006086045563043\n  (0, 1475)\t0.15323156641855148\n  (0, 1482)\t0.1791014695709775\n  (0, 2044)\t0.0880045901852904\n  (0, 2050)\t0.12014061972510284\n  (0, 3379)\t0.07009019575016517\n  (0, 3384)\t0.13734126726881898\n  (0, 3857)\t0.12529598814314372\n  (0, 3867)\t0.18946316334819815\n  (0, 4223)\t0.10409167042121395\n  (0, 4226)\t0.2022922745797025\n  (0, 4412)\t0.05755509614884256\n  (0, 4578)\t0.1398316824068051\n  :\t:\n  (6699, 5489)\t0.1671427878078952\n  (6699, 5499)\t0.11173610372611903\n  (6699, 5551)\t0.10349711599546825\n  (6699, 5997)\t0.1108472110929906\n  (6699, 6002)\t0.13018227875443295\n  (6699, 6003)\t0.13505200961719846\n  (6699, 6004)\t0.15237932584057978\n  (6699, 6513)\t0.09877132467052505\n  (6699, 6514)\t0.10302828032567139\n  (6699, 6522)\t0.11594101893879433\n  (6699, 6533)\t0.15006191371727798\n  (6699, 7999)\t0.1023834996799624\n  (6699, 8024)\t0.13871358551118326\n  (6699, 8438)\t0.08775077645819684\n  (6699, 8456)\t0.11194169784878341\n  (6699, 8615)\t0.07838108647797312\n  (6699, 8618)\t0.13655612643952472\n  (6699, 8794)\t0.1526600711762559\n  (6699, 8810)\t0.1752891962319312\n  (6699, 9705)\t0.12439481787677041\n  (6699, 9706)\t0.13085479399478925\n  (6699, 9719)\t0.13312575864811088\n  (6699, 9731)\t0.20553810314740456\n  (6699, 9767)\t0.14399050886566328\n  (6699, 9769)\t0.16260182223989939",
     "output_type": "error",
     "traceback": [
      "\u001b[1;31m---------------------------------------------------------------------------\u001b[0m",
      "\u001b[1;31mValueError\u001b[0m                                Traceback (most recent call last)",
      "\u001b[1;32m<ipython-input-118-2665e75c5495>\u001b[0m in \u001b[0;36m<module>\u001b[1;34m\u001b[0m\n\u001b[1;32m----> 1\u001b[1;33m \u001b[0mhistory\u001b[0m \u001b[1;33m=\u001b[0m \u001b[0mmodel\u001b[0m\u001b[1;33m.\u001b[0m\u001b[0mfit\u001b[0m\u001b[1;33m(\u001b[0m\u001b[0mtrain_x\u001b[0m\u001b[1;33m,\u001b[0m \u001b[0mtrain_y\u001b[0m\u001b[1;33m,\u001b[0m \u001b[0mepochs\u001b[0m\u001b[1;33m=\u001b[0m\u001b[1;36m10\u001b[0m\u001b[1;33m,\u001b[0m \u001b[0mbatch_size\u001b[0m\u001b[1;33m=\u001b[0m\u001b[1;36m2\u001b[0m\u001b[1;33m,\u001b[0m \u001b[0mvalidation_split\u001b[0m\u001b[1;33m=\u001b[0m\u001b[1;36m0.3\u001b[0m\u001b[1;33m)\u001b[0m\u001b[1;33m\u001b[0m\u001b[1;33m\u001b[0m\u001b[0m\n\u001b[0m",
      "\u001b[1;32mc:\\users\\rclukey\\appdata\\local\\programs\\python\\python36\\lib\\site-packages\\tensorflow\\python\\keras\\engine\\training.py\u001b[0m in \u001b[0;36mfit\u001b[1;34m(self, x, y, batch_size, epochs, verbose, callbacks, validation_split, validation_data, shuffle, class_weight, sample_weight, initial_epoch, steps_per_epoch, validation_steps, validation_freq, max_queue_size, workers, use_multiprocessing, **kwargs)\u001b[0m\n\u001b[0;32m    804\u001b[0m         \u001b[0msteps\u001b[0m\u001b[1;33m=\u001b[0m\u001b[0msteps_per_epoch\u001b[0m\u001b[1;33m,\u001b[0m\u001b[1;33m\u001b[0m\u001b[1;33m\u001b[0m\u001b[0m\n\u001b[0;32m    805\u001b[0m         \u001b[0mvalidation_split\u001b[0m\u001b[1;33m=\u001b[0m\u001b[0mvalidation_split\u001b[0m\u001b[1;33m,\u001b[0m\u001b[1;33m\u001b[0m\u001b[1;33m\u001b[0m\u001b[0m\n\u001b[1;32m--> 806\u001b[1;33m         shuffle=shuffle)\n\u001b[0m\u001b[0;32m    807\u001b[0m \u001b[1;33m\u001b[0m\u001b[0m\n\u001b[0;32m    808\u001b[0m     \u001b[1;31m# Prepare validation data.\u001b[0m\u001b[1;33m\u001b[0m\u001b[1;33m\u001b[0m\u001b[1;33m\u001b[0m\u001b[0m\n",
      "\u001b[1;32mc:\\users\\rclukey\\appdata\\local\\programs\\python\\python36\\lib\\site-packages\\tensorflow\\python\\keras\\engine\\training.py\u001b[0m in \u001b[0;36m_standardize_user_data\u001b[1;34m(self, x, y, sample_weight, class_weight, batch_size, check_steps, steps_name, steps, validation_split, shuffle, extract_tensors_from_dataset)\u001b[0m\n\u001b[0;32m   2488\u001b[0m             not tensor_util.is_tensor(x_input)):\n\u001b[0;32m   2489\u001b[0m           raise ValueError('Please provide as model inputs either a single '\n\u001b[1;32m-> 2490\u001b[1;33m                            'array or a list of arrays. You passed: x=' + str(x))\n\u001b[0m\u001b[0;32m   2491\u001b[0m         \u001b[0mall_inputs\u001b[0m\u001b[1;33m.\u001b[0m\u001b[0mappend\u001b[0m\u001b[1;33m(\u001b[0m\u001b[0mx_input\u001b[0m\u001b[1;33m)\u001b[0m\u001b[1;33m\u001b[0m\u001b[1;33m\u001b[0m\u001b[0m\n\u001b[0;32m   2492\u001b[0m \u001b[1;33m\u001b[0m\u001b[0m\n",
      "\u001b[1;31mValueError\u001b[0m: Please provide as model inputs either a single array or a list of arrays. You passed: x=  (0, 154)\t0.07979262662791708\n  (0, 167)\t0.14680568429210422\n  (0, 336)\t0.08330825645691099\n  (0, 350)\t0.1439363372907167\n  (0, 429)\t0.10024374428625953\n  (0, 435)\t0.10572985686480439\n  (0, 616)\t0.15008625049478638\n  (0, 1171)\t0.15927478520425659\n  (0, 1179)\t0.1187508090131494\n  (0, 1183)\t0.12716420420055394\n  (0, 1228)\t0.17051167628023745\n  (0, 1230)\t0.18946316334819815\n  (0, 1473)\t0.20006086045563043\n  (0, 1475)\t0.15323156641855148\n  (0, 1482)\t0.1791014695709775\n  (0, 2044)\t0.0880045901852904\n  (0, 2050)\t0.12014061972510284\n  (0, 3379)\t0.07009019575016517\n  (0, 3384)\t0.13734126726881898\n  (0, 3857)\t0.12529598814314372\n  (0, 3867)\t0.18946316334819815\n  (0, 4223)\t0.10409167042121395\n  (0, 4226)\t0.2022922745797025\n  (0, 4412)\t0.05755509614884256\n  (0, 4578)\t0.1398316824068051\n  :\t:\n  (6699, 5489)\t0.1671427878078952\n  (6699, 5499)\t0.11173610372611903\n  (6699, 5551)\t0.10349711599546825\n  (6699, 5997)\t0.1108472110929906\n  (6699, 6002)\t0.13018227875443295\n  (6699, 6003)\t0.13505200961719846\n  (6699, 6004)\t0.15237932584057978\n  (6699, 6513)\t0.09877132467052505\n  (6699, 6514)\t0.10302828032567139\n  (6699, 6522)\t0.11594101893879433\n  (6699, 6533)\t0.15006191371727798\n  (6699, 7999)\t0.1023834996799624\n  (6699, 8024)\t0.13871358551118326\n  (6699, 8438)\t0.08775077645819684\n  (6699, 8456)\t0.11194169784878341\n  (6699, 8615)\t0.07838108647797312\n  (6699, 8618)\t0.13655612643952472\n  (6699, 8794)\t0.1526600711762559\n  (6699, 8810)\t0.1752891962319312\n  (6699, 9705)\t0.12439481787677041\n  (6699, 9706)\t0.13085479399478925\n  (6699, 9719)\t0.13312575864811088\n  (6699, 9731)\t0.20553810314740456\n  (6699, 9767)\t0.14399050886566328\n  (6699, 9769)\t0.16260182223989939"
     ]
    }
   ],
   "source": [
    "history = model.fit(train_x, train_y, epochs=10, batch_size=2, validation_split=0.3)"
   ]
  },
  {
   "cell_type": "code",
   "execution_count": null,
   "metadata": {},
   "outputs": [],
   "source": []
  }
 ],
 "metadata": {
  "kernelspec": {
   "display_name": "Python 3",
   "language": "python",
   "name": "python3"
  },
  "language_info": {
   "codemirror_mode": {
    "name": "ipython",
    "version": 3
   },
   "file_extension": ".py",
   "mimetype": "text/x-python",
   "name": "python",
   "nbconvert_exporter": "python",
   "pygments_lexer": "ipython3",
   "version": "3.6.8"
  }
 },
 "nbformat": 4,
 "nbformat_minor": 2
}
