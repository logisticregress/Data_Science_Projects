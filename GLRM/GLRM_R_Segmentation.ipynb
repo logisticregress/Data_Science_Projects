{
 "cells": [
  {
   "cell_type": "markdown",
   "metadata": {},
   "source": [
    "# Clustering Notebook in R"
   ]
  },
  {
   "cell_type": "markdown",
   "metadata": {},
   "source": [
    "Notes and References \n",
    "\n",
    "sample size for clustering\n",
    "https://journals.sagepub.com/doi/full/10.1177/0047287513496475\n"
   ]
  },
  {
   "cell_type": "code",
   "execution_count": 140,
   "metadata": {},
   "outputs": [
    {
     "name": "stdout",
     "output_type": "stream",
     "text": [
      " Connection successful!\n",
      "\n",
      "R is connected to the H2O cluster: \n",
      "    H2O cluster uptime:         1 hours 9 minutes \n",
      "    H2O cluster timezone:       America/Los_Angeles \n",
      "    H2O data parsing timezone:  UTC \n",
      "    H2O cluster version:        3.32.0.1 \n",
      "    H2O cluster version age:    1 month and 23 days  \n",
      "    H2O cluster name:           H2O_started_from_R_rcluk_xeo316 \n",
      "    H2O cluster total nodes:    1 \n",
      "    H2O cluster total memory:   3.48 GB \n",
      "    H2O cluster total cores:    8 \n",
      "    H2O cluster allowed cores:  5 \n",
      "    H2O cluster healthy:        TRUE \n",
      "    H2O Connection ip:          localhost \n",
      "    H2O Connection port:        54321 \n",
      "    H2O Connection proxy:       NA \n",
      "    H2O Internal Security:      FALSE \n",
      "    H2O API Extensions:         Amazon S3, Algos, AutoML, Core V3, TargetEncoder, Core V4 \n",
      "    R Version:                  R version 4.0.3 (2020-10-10) \n",
      "\n"
     ]
    }
   ],
   "source": [
    "# Import the necessary Libraries to run all the clustering algorithms \n",
    "library(clustMixType)\n",
    "library(e1071)\n",
    "library(caTools)\n",
    "library(caret)\n",
    "library(nnet)\n",
    "library(tidyr)\n",
    "library(forecast)\n",
    "library(FactoMineR)\n",
    "library(dplyr)\n",
    "library(MASS)\n",
    "library(moments)\n",
    "library(readxl)\n",
    "library(e1071)\n",
    "library(factoextra)\n",
    "library(ClusterR)\n",
    "library(ggplot2)\n",
    "library(wesanderson)\n",
    "library(randomForest)\n",
    "library(mclust)\n",
    "library(NbClust)\n",
    "library(kableExtra)\n",
    "library(PCAmixdata)\n",
    "library(factoextra)\n",
    "library(reshape2)\n",
    "library(bestNormalize)\n",
    "library(PerformanceAnalytics)\n",
    "library(corrplot)\n",
    "library(descr)\n",
    "library(gridExtra)\n",
    "library(cluster)\n",
    "library(h2o)\n",
    "library(purrr)\n",
    "h2o.init(nthreads = 5)\n",
    "library(openxlsx)\n",
    "library(xgboost)\n",
    "library(ggpubr)\n",
    "\n",
    "# Other Configurations for Jupyter Notebook\n",
    "options(jupyter.plot_scale=1)  # sets the plot size"
   ]
  },
  {
   "cell_type": "markdown",
   "metadata": {},
   "source": [
    "# Build Functions\n",
    "These functions are necessary to build the algorithm and transform the data.  Do not change or modify these functions! \n",
    "<hr>\n",
    "\n",
    "*h2o_glrm* - this function compresses the dataset (variables) down to k dimensions - recommend 2 or 3 <br>\n",
    "*famd_pca* - this function is similar to the first one, but uses a different algorithm; it's not as good as the first one <br>\n",
    "*make_cluster* - this function runs three different clustering algorithms on the dimension-reduced data <br>\n",
    "*rf_valid* - this function runs the random-forest and ANOVA validation on the final cluster solutions <br>\n",
    "<hr>"
   ]
  },
  {
   "cell_type": "code",
   "execution_count": 141,
   "metadata": {},
   "outputs": [],
   "source": [
    "# Build Functions to process the data\n",
    "\n",
    "# this function uses Generalized Low Rank Model to reduce multivariate mixed data to k dimensions\n",
    "h2o_glrm <- function(data, k) {\n",
    "    df_h2o <- as.h2o(data)\n",
    "    m_glrm = h2o.glrm(training_frame = df_h2o, loss = \"Quadratic\", gamma_x = .25, gamma_y = 1, transform = \"standardize\", k = k,\n",
    "                  seed = 123, max_iterations = 1000, recover_svd=TRUE, init=\"SVD\",\n",
    "                      regularization_x = \"L1\",\n",
    "                      regularization_y = \"L1\")\n",
    "    X.m = as.data.frame(h2o.getFrame(m_glrm@model$representation_name))\n",
    "    return(X.m)\n",
    "}\n",
    "\n",
    "famd_pca <- function(data, k) {\n",
    "    PCA_famd <-FAMD(data, ncp=k, graph=FALSE)\n",
    "    y <- get_famd_ind(PCA_famd)\n",
    "    df_famd <- as.data.frame(y$coord)\n",
    "    return(df_famd)\n",
    "}\n",
    "\n",
    "# Function to perform various clustering algorithms\n",
    "make_cluster <- function(data, k, meth) {\n",
    "    tot_withinss = map_dbl(1:10, function(k)\n",
    "      {\n",
    "      model=kmeans(x = data, centers = k)\n",
    "      model$tot.withinss\n",
    "      })\n",
    "\n",
    "    elbow_df <- data.frame(k = 1:10, tot_withinss = tot_withinss)\n",
    "\n",
    "    plot1 <- ggplot(elbow_df, aes(x = k, y = tot_withinss)) + geom_line() +\n",
    "      scale_x_continuous(breaks = 1:10)\n",
    "     \n",
    "    if(meth == 'kmeans'){\n",
    "        set.seed(45)\n",
    "        model_cl = kmeans(data, k, nstart = 25)\n",
    "        plot2 <- fviz_cluster(model_cl, data = data, geom = 'point')\n",
    "        clusters <- model_cl$cluster\n",
    "        sil <- silhouette(model_cl$cluster, dist(data))\n",
    "        }\n",
    "    \n",
    "    else if(meth == 'gmm'){\n",
    "        gmm = GMM(data, k, dist_mode = \"eucl_dist\", seed_mode = \"random_subset\", km_iter = 15, em_iter = 15, verbose = F)\n",
    "        pr <- predict_GMM(data, gmm$centroids, gmm$covariance_matrices, gmm$weights)\n",
    "        clusters <- pr$cluster_labels\n",
    "        plot2 <- ggplot() + geom_point(data = data, mapping = aes(x = data[,1], y = data[,2], col = as.factor(pr$cluster_labels))) + scale_fill_brewer(palette=\"Set1\")\n",
    "        sil <- silhouette(pr$cluster_labels, dist(data))\n",
    "        }\n",
    "    \n",
    "    else if(meth == 'hier'){\n",
    "        # Dissimilarity matrix\n",
    "        d <- dist(data, method = \"minkowski\", p=5)\n",
    "\n",
    "        # Hierarchical clustering using Complete Linkage\n",
    "        hc1 <- hclust(d, method = \"ward.D2\" )\n",
    "        clusters <- cutree(hc1, k = k)\n",
    "        plot2 <- ggplot() + geom_point(data = data, mapping = aes(x = data[,1], y = data[,2], col = as.factor(clusters))) + scale_fill_brewer(palette=\"Set1\")\n",
    "        sil <- silhouette(clusters, dist(data))\n",
    "        }\n",
    "    plot3 <- fviz_silhouette(sil)\n",
    "    \n",
    "    return(list(plot1, plot2, plot3, clusters))\n",
    "}\n",
    "\n",
    "# Function to perform Validation using Random Forest and ANOVA\n",
    "rf_valid <- function(clusters, data, trees, depth) {\n",
    "    c <- clusters\n",
    "    df_crm1 = as.data.frame(data)\n",
    "    df_crm1$clusters <- c\n",
    "    df_crm1$clusters <- as.factor(df_crm1$clusters)\n",
    "    df_rf <- as.h2o(df_crm1)\n",
    "    \n",
    "    # Random Forest \n",
    "    predictors <- c(\"thry_day_es_n\", \"env_purch_n\", \"env_sent_life_n\", \"num_trx_n\", \"mmr_n\")\n",
    "    response <- \"clusters\"\n",
    "    \n",
    "    dfr_split <- h2o.splitFrame(data = df_rf, ratios = 0.65, seed = 1234)\n",
    "    train <- dfr_split[[1]]\n",
    "    valid <- dfr_split[[2]]\n",
    "    \n",
    "    \n",
    "    # Build and train the model:\n",
    "    ds_drf <- h2o.randomForest(x = predictors,\n",
    "                             y = response,\n",
    "                             ntrees = trees,\n",
    "                             balance_classes=TRUE,\n",
    "                             stopping_metric = \"AUTO\",\n",
    "                             stopping_rounds = 20, \n",
    "                             stopping_tolerance = 0.001,\n",
    "                             histogram_type='RoundRobin',\n",
    "                             sample_rate = .6,\n",
    "                             col_sample_rate_per_tree = .75,\n",
    "                             nbins=25,\n",
    "                             mtries=-1,\n",
    "                             max_depth = depth,\n",
    "                             min_rows = 1,\n",
    "                             nfolds = 10,\n",
    "                             training_frame = train,\n",
    "                             validation_frame = valid)\n",
    "    \n",
    "    cm1 <- h2o.confusionMatrix(ds_drf)\n",
    "    cm2 <- h2o.confusionMatrix(ds_drf, valid)\n",
    "    varimp <- h2o.varimp(ds_drf)\n",
    "\n",
    "    return(list(ds_drf, df_crm1, cm1, cm2, varimp))\n",
    "}"
   ]
  },
  {
   "cell_type": "code",
   "execution_count": 142,
   "metadata": {},
   "outputs": [],
   "source": [
    "run_h2 <- function(data, comp, clust, algo, trees, depth) {\n",
    "    h2o_pca <- h2o_glrm(data, comp)\n",
    "    famd_pca <- famd_pca(data, comp)\n",
    "    cl <- make_cluster(h2o_pca, clust, algo)\n",
    "    cluster_plot <- cl[[2]]\n",
    "    elbow_plot <- cl[[1]]\n",
    "    sil_plot <- cl[[3]]\n",
    "    clusters <- cl[[4]]\n",
    "    val <- rf_valid(cl[[4]], as.data.frame(df_crm_i), trees, depth)\n",
    "    #val <- rf_valid(oc, as.data.frame(df_crm_i))\n",
    "    return(list(val,cluster_plot, elbow_plot, sil_plot, clusters))\n",
    "}\n"
   ]
  },
  {
   "cell_type": "markdown",
   "metadata": {},
   "source": [
    "# Load the Data Set \n",
    "<hr>\n",
    "The data has had pre-processed in Excel - namely to remove certain values (i.e. Real Estate, Free Accounts, etc.) and to recombine some levels in the Categorical variables due to low counts (i.e. less than 5).  The following modifications were made:<br><br>\n",
    "1. \"Former Customers\" were excluded <br>\n",
    "2. Vertical: Real-estate were excluded <br>\n",
    "3. Non-Paying customers were removed <br> \n",
    "4. Pricing Model = Free were removed <br>\n",
    "5. customers from the survey that could not be found in the CRM data were removed <br>\n",
    "<hr>"
   ]
  },
  {
   "cell_type": "code",
   "execution_count": 143,
   "metadata": {},
   "outputs": [
    {
     "data": {
      "text/html": [
       "<table>\n",
       "<caption>A tibble: 6 × 46</caption>\n",
       "<thead>\n",
       "\t<tr><th scope=col>uid</th><th scope=col>q1</th><th scope=col>q2</th><th scope=col>q3</th><th scope=col>q4</th><th scope=col>q5</th><th scope=col>q6</th><th scope=col>q7</th><th scope=col>q8</th><th scope=col>q9</th><th scope=col>...</th><th scope=col>q30</th><th scope=col>q32</th><th scope=col>q33</th><th scope=col>q34</th><th scope=col>q35</th><th scope=col>q36</th><th scope=col>q37</th><th scope=col>q38i</th><th scope=col>q39i</th><th scope=col>q40i</th></tr>\n",
       "\t<tr><th scope=col>&lt;dbl&gt;</th><th scope=col>&lt;dbl&gt;</th><th scope=col>&lt;dbl&gt;</th><th scope=col>&lt;dbl&gt;</th><th scope=col>&lt;dbl&gt;</th><th scope=col>&lt;dbl&gt;</th><th scope=col>&lt;dbl&gt;</th><th scope=col>&lt;dbl&gt;</th><th scope=col>&lt;dbl&gt;</th><th scope=col>&lt;dbl&gt;</th><th scope=col>...</th><th scope=col>&lt;dbl&gt;</th><th scope=col>&lt;dbl&gt;</th><th scope=col>&lt;dbl&gt;</th><th scope=col>&lt;dbl&gt;</th><th scope=col>&lt;dbl&gt;</th><th scope=col>&lt;dbl&gt;</th><th scope=col>&lt;dbl&gt;</th><th scope=col>&lt;dbl&gt;</th><th scope=col>&lt;dbl&gt;</th><th scope=col>&lt;dbl&gt;</th></tr>\n",
       "</thead>\n",
       "<tbody>\n",
       "\t<tr><td> 6</td><td>1</td><td>0</td><td>0</td><td>10</td><td>6</td><td>1</td><td>4</td><td>500</td><td> 500</td><td>...</td><td>19470</td><td>135054</td><td> 515</td><td>89</td><td> 85740</td><td>830</td><td> 9388.89</td><td> 515</td><td>89</td><td>830</td></tr>\n",
       "\t<tr><td> 7</td><td>1</td><td>1</td><td>1</td><td> 2</td><td>5</td><td>2</td><td>4</td><td> 10</td><td>  30</td><td>...</td><td>  357</td><td>   374</td><td> 450</td><td>85</td><td>  2101</td><td>213</td><td>  350.62</td><td> 450</td><td>85</td><td>213</td></tr>\n",
       "\t<tr><td> 8</td><td>1</td><td>0</td><td>0</td><td> 4</td><td>4</td><td>2</td><td>4</td><td>  6</td><td>   6</td><td>...</td><td>  528</td><td>   768</td><td>1098</td><td> 0</td><td>   150</td><td>269</td><td>  481.25</td><td>1098</td><td>NA</td><td>269</td></tr>\n",
       "\t<tr><td>10</td><td>1</td><td>1</td><td>1</td><td> 5</td><td>3</td><td>1</td><td>4</td><td>200</td><td> 200</td><td>...</td><td> 7321</td><td> 24382</td><td> 650</td><td>40</td><td>  7603</td><td> 99</td><td> 7793.30</td><td> 650</td><td>40</td><td> 99</td></tr>\n",
       "\t<tr><td>11</td><td>1</td><td>0</td><td>0</td><td> 9</td><td>6</td><td>2</td><td>4</td><td>  8</td><td> 100</td><td>...</td><td> 4985</td><td>  5032</td><td>2000</td><td>92</td><td>  1025</td><td>324</td><td>21457.50</td><td>2000</td><td>92</td><td>324</td></tr>\n",
       "\t<tr><td>12</td><td>0</td><td>1</td><td>0</td><td> 6</td><td>5</td><td>2</td><td>2</td><td>200</td><td>1000</td><td>...</td><td>59125</td><td>253718</td><td> 115</td><td>30</td><td>249291</td><td>130</td><td>48369.83</td><td> 115</td><td>30</td><td>130</td></tr>\n",
       "</tbody>\n",
       "</table>\n"
      ],
      "text/latex": [
       "A tibble: 6 × 46\n",
       "\\begin{tabular}{lllllllllllllllllllll}\n",
       " uid & q1 & q2 & q3 & q4 & q5 & q6 & q7 & q8 & q9 & ... & q30 & q32 & q33 & q34 & q35 & q36 & q37 & q38i & q39i & q40i\\\\\n",
       " <dbl> & <dbl> & <dbl> & <dbl> & <dbl> & <dbl> & <dbl> & <dbl> & <dbl> & <dbl> & ... & <dbl> & <dbl> & <dbl> & <dbl> & <dbl> & <dbl> & <dbl> & <dbl> & <dbl> & <dbl>\\\\\n",
       "\\hline\n",
       "\t  6 & 1 & 0 & 0 & 10 & 6 & 1 & 4 & 500 &  500 & ... & 19470 & 135054 &  515 & 89 &  85740 & 830 &  9388.89 &  515 & 89 & 830\\\\\n",
       "\t  7 & 1 & 1 & 1 &  2 & 5 & 2 & 4 &  10 &   30 & ... &   357 &    374 &  450 & 85 &   2101 & 213 &   350.62 &  450 & 85 & 213\\\\\n",
       "\t  8 & 1 & 0 & 0 &  4 & 4 & 2 & 4 &   6 &    6 & ... &   528 &    768 & 1098 &  0 &    150 & 269 &   481.25 & 1098 & NA & 269\\\\\n",
       "\t 10 & 1 & 1 & 1 &  5 & 3 & 1 & 4 & 200 &  200 & ... &  7321 &  24382 &  650 & 40 &   7603 &  99 &  7793.30 &  650 & 40 &  99\\\\\n",
       "\t 11 & 1 & 0 & 0 &  9 & 6 & 2 & 4 &   8 &  100 & ... &  4985 &   5032 & 2000 & 92 &   1025 & 324 & 21457.50 & 2000 & 92 & 324\\\\\n",
       "\t 12 & 0 & 1 & 0 &  6 & 5 & 2 & 2 & 200 & 1000 & ... & 59125 & 253718 &  115 & 30 & 249291 & 130 & 48369.83 &  115 & 30 & 130\\\\\n",
       "\\end{tabular}\n"
      ],
      "text/markdown": [
       "\n",
       "A tibble: 6 × 46\n",
       "\n",
       "| uid &lt;dbl&gt; | q1 &lt;dbl&gt; | q2 &lt;dbl&gt; | q3 &lt;dbl&gt; | q4 &lt;dbl&gt; | q5 &lt;dbl&gt; | q6 &lt;dbl&gt; | q7 &lt;dbl&gt; | q8 &lt;dbl&gt; | q9 &lt;dbl&gt; | ... ... | q30 &lt;dbl&gt; | q32 &lt;dbl&gt; | q33 &lt;dbl&gt; | q34 &lt;dbl&gt; | q35 &lt;dbl&gt; | q36 &lt;dbl&gt; | q37 &lt;dbl&gt; | q38i &lt;dbl&gt; | q39i &lt;dbl&gt; | q40i &lt;dbl&gt; |\n",
       "|---|---|---|---|---|---|---|---|---|---|---|---|---|---|---|---|---|---|---|---|---|\n",
       "|  6 | 1 | 0 | 0 | 10 | 6 | 1 | 4 | 500 |  500 | ... | 19470 | 135054 |  515 | 89 |  85740 | 830 |  9388.89 |  515 | 89 | 830 |\n",
       "|  7 | 1 | 1 | 1 |  2 | 5 | 2 | 4 |  10 |   30 | ... |   357 |    374 |  450 | 85 |   2101 | 213 |   350.62 |  450 | 85 | 213 |\n",
       "|  8 | 1 | 0 | 0 |  4 | 4 | 2 | 4 |   6 |    6 | ... |   528 |    768 | 1098 |  0 |    150 | 269 |   481.25 | 1098 | NA | 269 |\n",
       "| 10 | 1 | 1 | 1 |  5 | 3 | 1 | 4 | 200 |  200 | ... |  7321 |  24382 |  650 | 40 |   7603 |  99 |  7793.30 |  650 | 40 |  99 |\n",
       "| 11 | 1 | 0 | 0 |  9 | 6 | 2 | 4 |   8 |  100 | ... |  4985 |   5032 | 2000 | 92 |   1025 | 324 | 21457.50 | 2000 | 92 | 324 |\n",
       "| 12 | 0 | 1 | 0 |  6 | 5 | 2 | 2 | 200 | 1000 | ... | 59125 | 253718 |  115 | 30 | 249291 | 130 | 48369.83 |  115 | 30 | 130 |\n",
       "\n"
      ],
      "text/plain": [
       "  uid q1 q2 q3 q4 q5 q6 q7 q8  q9   ... q30   q32    q33  q34 q35    q36\n",
       "1  6  1  0  0  10 6  1  4  500  500 ... 19470 135054  515 89   85740 830\n",
       "2  7  1  1  1   2 5  2  4   10   30 ...   357    374  450 85    2101 213\n",
       "3  8  1  0  0   4 4  2  4    6    6 ...   528    768 1098  0     150 269\n",
       "4 10  1  1  1   5 3  1  4  200  200 ...  7321  24382  650 40    7603  99\n",
       "5 11  1  0  0   9 6  2  4    8  100 ...  4985   5032 2000 92    1025 324\n",
       "6 12  0  1  0   6 5  2  2  200 1000 ... 59125 253718  115 30  249291 130\n",
       "  q37      q38i q39i q40i\n",
       "1  9388.89  515 89   830 \n",
       "2   350.62  450 85   213 \n",
       "3   481.25 1098 NA   269 \n",
       "4  7793.30  650 40    99 \n",
       "5 21457.50 2000 92   324 \n",
       "6 48369.83  115 30   130 "
      ]
     },
     "metadata": {},
     "output_type": "display_data"
    },
    {
     "data": {
      "text/html": [
       "<style>\n",
       ".list-inline {list-style: none; margin:0; padding: 0}\n",
       ".list-inline>li {display: inline-block}\n",
       ".list-inline>li:not(:last-child)::after {content: \"\\00b7\"; padding: 0 .5ex}\n",
       "</style>\n",
       "<ol class=list-inline><li>1123</li><li>46</li></ol>\n"
      ],
      "text/latex": [
       "\\begin{enumerate*}\n",
       "\\item 1123\n",
       "\\item 46\n",
       "\\end{enumerate*}\n"
      ],
      "text/markdown": [
       "1. 1123\n",
       "2. 46\n",
       "\n",
       "\n"
      ],
      "text/plain": [
       "[1] 1123   46"
      ]
     },
     "metadata": {},
     "output_type": "display_data"
    }
   ],
   "source": [
    "# Load the Data\n",
    "df <- read_excel(\"C:/Users/rcluk/Python_Projects/p202/new_ds_data_clean_v3.xlsx\")\n",
    "head(df) # just show the first couple of lines to confirm that the data loaded properly\n",
    "dim(df) # check the dimensions - there should be 1118 rows of respondents and 38 variables (columns)"
   ]
  },
  {
   "cell_type": "markdown",
   "metadata": {},
   "source": [
    "# Variable Definitions \n",
    "<hr>\n",
    "##### SURVEY VARIABLES <br>\n",
    "Unique_order: a unique identifier for each participant <br>\n",
    "q1:   US Locuation (cat) <br>\n",
    "q2:   Non-Us Location (cat) <br>\n",
    "q3:   both US/Non-US Location (cat) <br>\n",
    "q4:   count of departments using DocuSign (scale)                  |  Survey Q18 <br>\n",
    "q5:   Feature Usage (scale)                                        |  Survey Q28 <br>\n",
    "q5a:  Feature Usage Binned (cat)                                   |  recoded (based on clustering of responses, see SPSS note) <br>\n",
    "q6:   count of roles of DocuSign users (scale)                     |  Survey Q19 <br>\n",
    "q7:   count of admin portal feature usage (scale)                  |  Survey Q26 <br>\n",
    "q8:   number of unique senders managed (scale)                     |  Survey Q51 <br>\n",
    "q9:   number of unique senders in company (scale)                  |  Survey Q13 <br>\n",
    "q10:  number of DocuSign accounts (scale)                          |  Survey Q14 <br>\n",
    "q11:  % of time on DocuSign activities in the month (scale)        |  Survey Q24_4 <br>\n",
    "q11a: q11 binned into timeframe buckest [0 = 1, 2 < 50, 3 > 50]    |  recoded <br>\n",
    "q12:  level of satisfaction with DocuSign experience (scale)       |  Survey Q37 <br>\n",
    "q13:  level of confidence in getting the most out of DS (scale)    |  Survey Q21 <br>\n",
    "q14:  Top 2 Targeted Outcomes of your role with DocuSign (cat)     |  Survey Q10 <br>\n",
    "q15:  number of locations (cat)                                    |  Survey Q2 <br>\n",
    "q16:  Your level of responsibility (cat)                           |  Survey Q7 <br>\n",
    "q17:  Top Group from: % of Time on each responsibility (cat)       |  Survey Q9 <br>\n",
    "q18:  level of DocuSign expertise (cat)                            |  Survey Q20 <br>\n",
    "q19:  Sphere of Influence (cat)                                    |  Survey Q22 <br>\n",
    "q20:  How long have you been working with DocuSign (cat)           |  Survey Q23 <br>\n",
    "q21:  How often do you interact with the DocuSign platform (cat)   |  Survey Q26 <br>\n",
    "q22:  Which best describes your DocuSign role (cat)                |  Survey Q47 <br>\n",
    "q23:  do you consider yourself to be a DocuSign admin (cat)        |  Survey Q48  <br>\n",
    "q24:  what department of your company do you work in? (cat)        |  Survey Q5 <br>\n",
    "q25: <br>\n",
    "q26: <br>\n",
    "<br>\n",
    "<br>\n",
    "##### CRM Variables <br>\n",
    "q25:  Account Type (cat)                                           |  CRM <br>\n",
    "q26:  Vertical (cat)                                               |  CRM <br>\n",
    "q27:  MMR                                                          |  CRM <br>\n",
    "q28:  number of employees                                          |  CRM <br>\n",
    "q29:  adoption index                                               |  CRM <br>\n",
    "q30:  ThitryD Envelopes Send                                       |  CRM <br>\n",
    "q31:  Envelopes Purchased                                          |  CRM <br>\n",
    "q32:  Envelopes_sent_in_term                                       |  CRM <br>\n"
   ]
  },
  {
   "cell_type": "markdown",
   "metadata": {},
   "source": [
    "# Exploratory Data Analysis"
   ]
  },
  {
   "cell_type": "code",
   "execution_count": 144,
   "metadata": {},
   "outputs": [
    {
     "data": {
      "text/html": [
       "<table>\n",
       "<caption>A psych: 46 × 13</caption>\n",
       "<thead>\n",
       "\t<tr><th></th><th scope=col>vars</th><th scope=col>n</th><th scope=col>mean</th><th scope=col>sd</th><th scope=col>median</th><th scope=col>trimmed</th><th scope=col>mad</th><th scope=col>min</th><th scope=col>max</th><th scope=col>range</th><th scope=col>skew</th><th scope=col>kurtosis</th><th scope=col>se</th></tr>\n",
       "\t<tr><th></th><th scope=col>&lt;dbl&gt;</th><th scope=col>&lt;dbl&gt;</th><th scope=col>&lt;dbl&gt;</th><th scope=col>&lt;dbl&gt;</th><th scope=col>&lt;dbl&gt;</th><th scope=col>&lt;dbl&gt;</th><th scope=col>&lt;dbl&gt;</th><th scope=col>&lt;dbl&gt;</th><th scope=col>&lt;dbl&gt;</th><th scope=col>&lt;dbl&gt;</th><th scope=col>&lt;dbl&gt;</th><th scope=col>&lt;dbl&gt;</th><th scope=col>&lt;dbl&gt;</th></tr>\n",
       "</thead>\n",
       "<tbody>\n",
       "\t<tr><th scope=row>uid</th><td> 1</td><td>1123</td><td>   845.045</td><td>    463.324</td><td> 868.0</td><td> 852.764</td><td> 581.179</td><td> 6</td><td>     1618</td><td>     1612</td><td>-0.128</td><td>  -1.161</td><td>    13.826</td></tr>\n",
       "\t<tr><th scope=row>q1</th><td> 2</td><td>1123</td><td>     0.915</td><td>      0.280</td><td>   1.0</td><td>   1.000</td><td>   0.000</td><td> 0</td><td>        1</td><td>        1</td><td>-2.961</td><td>   6.774</td><td>     0.008</td></tr>\n",
       "\t<tr><th scope=row>q2</th><td> 3</td><td>1123</td><td>     0.240</td><td>      0.427</td><td>   0.0</td><td>   0.175</td><td>   0.000</td><td> 0</td><td>        1</td><td>        1</td><td> 1.219</td><td>  -0.515</td><td>     0.013</td></tr>\n",
       "\t<tr><th scope=row>q3</th><td> 4</td><td>1123</td><td>     0.159</td><td>      0.365</td><td>   0.0</td><td>   0.073</td><td>   0.000</td><td> 0</td><td>        1</td><td>        1</td><td> 1.868</td><td>   1.489</td><td>     0.011</td></tr>\n",
       "\t<tr><th scope=row>q4</th><td> 5</td><td>1123</td><td>     3.387</td><td>      2.447</td><td>   3.0</td><td>   3.057</td><td>   2.965</td><td> 0</td><td>       13</td><td>       13</td><td> 1.165</td><td>   1.252</td><td>     0.073</td></tr>\n",
       "\t<tr><th scope=row>q5</th><td> 6</td><td>1123</td><td>     3.516</td><td>      2.110</td><td>   3.0</td><td>   3.277</td><td>   1.483</td><td> 1</td><td>       12</td><td>       11</td><td> 1.046</td><td>   1.196</td><td>     0.063</td></tr>\n",
       "\t<tr><th scope=row>q6</th><td> 7</td><td>1123</td><td>     1.629</td><td>      0.951</td><td>   1.0</td><td>   1.443</td><td>   0.000</td><td> 1</td><td>        6</td><td>        5</td><td> 1.836</td><td>   3.828</td><td>     0.028</td></tr>\n",
       "\t<tr><th scope=row>q7</th><td> 8</td><td>1123</td><td>     2.866</td><td>      1.461</td><td>   3.0</td><td>   2.763</td><td>   1.483</td><td> 1</td><td>        7</td><td>        6</td><td> 0.422</td><td>  -0.631</td><td>     0.044</td></tr>\n",
       "\t<tr><th scope=row>q8</th><td> 9</td><td>1123</td><td>    42.265</td><td>    198.963</td><td>   5.0</td><td>   9.567</td><td>   4.448</td><td> 0</td><td>     3000</td><td>     3000</td><td>10.974</td><td> 143.537</td><td>     5.937</td></tr>\n",
       "\t<tr><th scope=row>q9</th><td>10</td><td>1123</td><td>   181.606</td><td>   1545.472</td><td>   9.0</td><td>  20.524</td><td>  10.378</td><td> 0</td><td>    32000</td><td>    32000</td><td>15.645</td><td> 272.526</td><td>    46.118</td></tr>\n",
       "\t<tr><th scope=row>q10</th><td>11</td><td>1123</td><td>    70.678</td><td>   1797.570</td><td>   1.0</td><td>   1.956</td><td>   0.000</td><td> 0</td><td>    60000</td><td>    60000</td><td>33.016</td><td>1097.155</td><td>    53.641</td></tr>\n",
       "\t<tr><th scope=row>q11</th><td>12</td><td>1123</td><td>    22.398</td><td>     29.888</td><td>  10.0</td><td>  15.776</td><td>  11.861</td><td> 0</td><td>      100</td><td>      100</td><td> 1.685</td><td>   1.516</td><td>     0.892</td></tr>\n",
       "\t<tr><th scope=row>q12</th><td>13</td><td>1123</td><td>     4.393</td><td>      0.790</td><td>   5.0</td><td>   4.533</td><td>   0.000</td><td> 1</td><td>        5</td><td>        4</td><td>-1.380</td><td>   2.013</td><td>     0.024</td></tr>\n",
       "\t<tr><th scope=row>q13</th><td>14</td><td>1123</td><td>     3.890</td><td>      0.932</td><td>   4.0</td><td>   4.011</td><td>   0.000</td><td> 1</td><td>        5</td><td>        4</td><td>-0.935</td><td>   0.710</td><td>     0.028</td></tr>\n",
       "\t<tr><th scope=row>q11_grp*</th><td>15</td><td>1123</td><td>     1.095</td><td>      0.294</td><td>   1.0</td><td>   1.000</td><td>   0.000</td><td> 1</td><td>        2</td><td>        1</td><td> 2.753</td><td>   5.585</td><td>     0.009</td></tr>\n",
       "\t<tr><th scope=row>q14*</th><td>16</td><td>1123</td><td>     1.978</td><td>      0.808</td><td>   2.0</td><td>   1.972</td><td>   1.483</td><td> 1</td><td>        3</td><td>        2</td><td> 0.040</td><td>  -1.468</td><td>     0.024</td></tr>\n",
       "\t<tr><th scope=row>q15*</th><td>17</td><td>1123</td><td>     4.976</td><td>      2.613</td><td>   5.0</td><td>   4.970</td><td>   2.965</td><td> 1</td><td>        9</td><td>        8</td><td>-0.034</td><td>  -1.156</td><td>     0.078</td></tr>\n",
       "\t<tr><th scope=row>q16*</th><td>18</td><td>1123</td><td>     3.039</td><td>      1.351</td><td>   4.0</td><td>   3.049</td><td>   1.483</td><td> 1</td><td>        5</td><td>        4</td><td>-0.190</td><td>  -1.348</td><td>     0.040</td></tr>\n",
       "\t<tr><th scope=row>q17*</th><td>19</td><td>1123</td><td>     1.874</td><td>      1.271</td><td>   1.0</td><td>   1.637</td><td>   0.000</td><td> 1</td><td>        5</td><td>        4</td><td> 1.175</td><td>   0.098</td><td>     0.038</td></tr>\n",
       "\t<tr><th scope=row>q18*</th><td>20</td><td>1123</td><td>     2.806</td><td>      1.087</td><td>   2.0</td><td>   2.882</td><td>   1.483</td><td> 1</td><td>        4</td><td>        3</td><td>-0.076</td><td>  -1.517</td><td>     0.032</td></tr>\n",
       "\t<tr><th scope=row>q19*</th><td>21</td><td>1123</td><td>     2.066</td><td>      0.809</td><td>   2.0</td><td>   2.082</td><td>   1.483</td><td> 1</td><td>        3</td><td>        2</td><td>-0.120</td><td>  -1.466</td><td>     0.024</td></tr>\n",
       "\t<tr><th scope=row>q20*</th><td>22</td><td>1123</td><td>     2.478</td><td>      0.745</td><td>   3.0</td><td>   2.597</td><td>   0.000</td><td> 1</td><td>        3</td><td>        2</td><td>-1.032</td><td>  -0.447</td><td>     0.022</td></tr>\n",
       "\t<tr><th scope=row>q21*</th><td>23</td><td>1123</td><td>     2.322</td><td>      0.894</td><td>   3.0</td><td>   2.403</td><td>   0.000</td><td> 1</td><td>        3</td><td>        2</td><td>-0.677</td><td>  -1.409</td><td>     0.027</td></tr>\n",
       "\t<tr><th scope=row>q22*</th><td>24</td><td>1123</td><td>     2.132</td><td>      0.931</td><td>   2.0</td><td>   2.056</td><td>   1.483</td><td> 1</td><td>        4</td><td>        3</td><td> 0.385</td><td>  -0.769</td><td>     0.028</td></tr>\n",
       "\t<tr><th scope=row>q23*</th><td>25</td><td>1123</td><td>     2.946</td><td>      1.777</td><td>   3.0</td><td>   2.932</td><td>   2.965</td><td> 1</td><td>        5</td><td>        4</td><td> 0.059</td><td>  -1.779</td><td>     0.053</td></tr>\n",
       "\t<tr><th scope=row>q24*</th><td>26</td><td>1123</td><td>     1.576</td><td>      0.950</td><td>   1.0</td><td>   1.346</td><td>   0.000</td><td> 1</td><td>        4</td><td>        3</td><td> 1.643</td><td>   1.523</td><td>     0.028</td></tr>\n",
       "\t<tr><th scope=row>q25*</th><td>27</td><td>1123</td><td>     1.801</td><td>      0.400</td><td>   2.0</td><td>   1.875</td><td>   0.000</td><td> 1</td><td>        2</td><td>        1</td><td>-1.502</td><td>   0.257</td><td>     0.012</td></tr>\n",
       "\t<tr><th scope=row>q26*</th><td>28</td><td>1123</td><td>     1.217</td><td>      0.413</td><td>   1.0</td><td>   1.147</td><td>   0.000</td><td> 1</td><td>        2</td><td>        1</td><td> 1.369</td><td>  -0.125</td><td>     0.012</td></tr>\n",
       "\t<tr><th scope=row>q28_grp*</th><td>29</td><td>1123</td><td>     3.485</td><td>      1.547</td><td>   4.0</td><td>   3.606</td><td>   1.483</td><td> 1</td><td>        5</td><td>        4</td><td>-0.446</td><td>  -1.347</td><td>     0.046</td></tr>\n",
       "\t<tr><th scope=row>vertical*</th><td>30</td><td>1123</td><td>    10.603</td><td>      5.344</td><td>  10.0</td><td>  10.594</td><td>   7.413</td><td> 1</td><td>       21</td><td>       20</td><td> 0.025</td><td>  -1.387</td><td>     0.159</td></tr>\n",
       "\t<tr><th scope=row>rank_prefer_content*</th><td>31</td><td>1123</td><td>     3.028</td><td>      1.454</td><td>   3.0</td><td>   3.036</td><td>   1.483</td><td> 1</td><td>        5</td><td>        4</td><td>-0.016</td><td>  -1.251</td><td>     0.043</td></tr>\n",
       "\t<tr><th scope=row>rank_help_topics*</th><td>32</td><td>1123</td><td>     2.394</td><td>      0.657</td><td>   2.0</td><td>   2.488</td><td>   1.483</td><td> 1</td><td>        3</td><td>        2</td><td>-0.625</td><td>  -0.640</td><td>     0.020</td></tr>\n",
       "\t<tr><th scope=row>rank_comm_method*</th><td>33</td><td>1123</td><td>     2.505</td><td>      0.902</td><td>   3.0</td><td>   2.506</td><td>   1.483</td><td> 1</td><td>        4</td><td>        3</td><td>-0.109</td><td>  -0.777</td><td>     0.027</td></tr>\n",
       "\t<tr><th scope=row>orig_clust*</th><td>34</td><td>1123</td><td>     2.060</td><td>      1.047</td><td>   2.0</td><td>   1.950</td><td>   1.483</td><td> 1</td><td>        4</td><td>        3</td><td> 0.769</td><td>  -0.586</td><td>     0.031</td></tr>\n",
       "\t<tr><th scope=row>q28</th><td>35</td><td>1123</td><td>   623.117</td><td>   4997.627</td><td>  47.0</td><td> 102.785</td><td>  59.304</td><td> 0</td><td>   129314</td><td>   129314</td><td>20.104</td><td> 461.033</td><td>   149.133</td></tr>\n",
       "\t<tr><th scope=row>q29</th><td>36</td><td>1123</td><td>121981.156</td><td>3433679.480</td><td> 800.0</td><td>2033.150</td><td> 889.560</td><td> 0</td><td>115000000</td><td>115000000</td><td>33.347</td><td>1112.653</td><td>102463.662</td></tr>\n",
       "\t<tr><th scope=row>q30</th><td>37</td><td>1123</td><td>  9173.904</td><td> 104261.285</td><td> 483.0</td><td>1141.360</td><td> 636.035</td><td> 0</td><td>  3137853</td><td>  3137853</td><td>25.766</td><td> 736.534</td><td>  3111.238</td></tr>\n",
       "\t<tr><th scope=row>q32</th><td>38</td><td>1123</td><td> 22260.205</td><td> 194670.541</td><td>1175.0</td><td>3021.568</td><td>1610.104</td><td> 0</td><td>  4388004</td><td>  4388004</td><td>18.863</td><td> 383.119</td><td>  5809.120</td></tr>\n",
       "\t<tr><th scope=row>q33</th><td>39</td><td>1027</td><td>  1894.662</td><td>   8569.916</td><td> 110.0</td><td> 314.849</td><td> 152.708</td><td> 1</td><td>   142459</td><td>   142458</td><td> 9.242</td><td> 109.324</td><td>   267.418</td></tr>\n",
       "\t<tr><th scope=row>q34</th><td>40</td><td> 833</td><td>    65.709</td><td>     24.326</td><td>  77.0</td><td>  68.925</td><td>  14.826</td><td> 0</td><td>      100</td><td>      100</td><td>-0.953</td><td>  -0.104</td><td>     0.843</td></tr>\n",
       "\t<tr><th scope=row>q35</th><td>41</td><td>1123</td><td> 17994.023</td><td> 184799.428</td><td>1250.0</td><td>2611.335</td><td>1559.695</td><td> 0</td><td>  4766870</td><td>  4766870</td><td>22.503</td><td> 532.846</td><td>  5514.558</td></tr>\n",
       "\t<tr><th scope=row>q36</th><td>42</td><td>1109</td><td>   650.200</td><td>    665.860</td><td> 354.0</td><td> 531.883</td><td> 357.307</td><td>13</td><td>     2664</td><td>     2651</td><td> 1.314</td><td>   0.623</td><td>    19.995</td></tr>\n",
       "\t<tr><th scope=row>q37</th><td>43</td><td>1123</td><td>  4481.684</td><td>  48841.278</td><td> 348.3</td><td> 841.520</td><td> 430.517</td><td> 0</td><td>  1572917</td><td>  1572917</td><td>29.900</td><td> 946.932</td><td>  1457.462</td></tr>\n",
       "\t<tr><th scope=row>q38i</th><td>44</td><td>1123</td><td>  1880.551</td><td>   8195.266</td><td> 138.0</td><td> 442.226</td><td> 197.186</td><td> 1</td><td>   142459</td><td>   142458</td><td> 9.670</td><td> 119.901</td><td>   244.553</td></tr>\n",
       "\t<tr><th scope=row>q39i</th><td>45</td><td>1107</td><td>    66.867</td><td>     19.713</td><td>  70.0</td><td>  69.290</td><td>  19.274</td><td> 1</td><td>      100</td><td>       99</td><td>-0.987</td><td>   0.483</td><td>     0.593</td></tr>\n",
       "\t<tr><th scope=row>q40i</th><td>46</td><td>1123</td><td>   650.057</td><td>    661.700</td><td> 359.0</td><td> 531.674</td><td> 370.650</td><td>13</td><td>     2664</td><td>     2651</td><td> 1.323</td><td>   0.669</td><td>    19.746</td></tr>\n",
       "</tbody>\n",
       "</table>\n"
      ],
      "text/latex": [
       "A psych: 46 × 13\n",
       "\\begin{tabular}{r|lllllllllllll}\n",
       "  & vars & n & mean & sd & median & trimmed & mad & min & max & range & skew & kurtosis & se\\\\\n",
       "  & <dbl> & <dbl> & <dbl> & <dbl> & <dbl> & <dbl> & <dbl> & <dbl> & <dbl> & <dbl> & <dbl> & <dbl> & <dbl>\\\\\n",
       "\\hline\n",
       "\tuid &  1 & 1123 &    845.045 &     463.324 &  868.0 &  852.764 &  581.179 &  6 &      1618 &      1612 & -0.128 &   -1.161 &     13.826\\\\\n",
       "\tq1 &  2 & 1123 &      0.915 &       0.280 &    1.0 &    1.000 &    0.000 &  0 &         1 &         1 & -2.961 &    6.774 &      0.008\\\\\n",
       "\tq2 &  3 & 1123 &      0.240 &       0.427 &    0.0 &    0.175 &    0.000 &  0 &         1 &         1 &  1.219 &   -0.515 &      0.013\\\\\n",
       "\tq3 &  4 & 1123 &      0.159 &       0.365 &    0.0 &    0.073 &    0.000 &  0 &         1 &         1 &  1.868 &    1.489 &      0.011\\\\\n",
       "\tq4 &  5 & 1123 &      3.387 &       2.447 &    3.0 &    3.057 &    2.965 &  0 &        13 &        13 &  1.165 &    1.252 &      0.073\\\\\n",
       "\tq5 &  6 & 1123 &      3.516 &       2.110 &    3.0 &    3.277 &    1.483 &  1 &        12 &        11 &  1.046 &    1.196 &      0.063\\\\\n",
       "\tq6 &  7 & 1123 &      1.629 &       0.951 &    1.0 &    1.443 &    0.000 &  1 &         6 &         5 &  1.836 &    3.828 &      0.028\\\\\n",
       "\tq7 &  8 & 1123 &      2.866 &       1.461 &    3.0 &    2.763 &    1.483 &  1 &         7 &         6 &  0.422 &   -0.631 &      0.044\\\\\n",
       "\tq8 &  9 & 1123 &     42.265 &     198.963 &    5.0 &    9.567 &    4.448 &  0 &      3000 &      3000 & 10.974 &  143.537 &      5.937\\\\\n",
       "\tq9 & 10 & 1123 &    181.606 &    1545.472 &    9.0 &   20.524 &   10.378 &  0 &     32000 &     32000 & 15.645 &  272.526 &     46.118\\\\\n",
       "\tq10 & 11 & 1123 &     70.678 &    1797.570 &    1.0 &    1.956 &    0.000 &  0 &     60000 &     60000 & 33.016 & 1097.155 &     53.641\\\\\n",
       "\tq11 & 12 & 1123 &     22.398 &      29.888 &   10.0 &   15.776 &   11.861 &  0 &       100 &       100 &  1.685 &    1.516 &      0.892\\\\\n",
       "\tq12 & 13 & 1123 &      4.393 &       0.790 &    5.0 &    4.533 &    0.000 &  1 &         5 &         4 & -1.380 &    2.013 &      0.024\\\\\n",
       "\tq13 & 14 & 1123 &      3.890 &       0.932 &    4.0 &    4.011 &    0.000 &  1 &         5 &         4 & -0.935 &    0.710 &      0.028\\\\\n",
       "\tq11\\_grp* & 15 & 1123 &      1.095 &       0.294 &    1.0 &    1.000 &    0.000 &  1 &         2 &         1 &  2.753 &    5.585 &      0.009\\\\\n",
       "\tq14* & 16 & 1123 &      1.978 &       0.808 &    2.0 &    1.972 &    1.483 &  1 &         3 &         2 &  0.040 &   -1.468 &      0.024\\\\\n",
       "\tq15* & 17 & 1123 &      4.976 &       2.613 &    5.0 &    4.970 &    2.965 &  1 &         9 &         8 & -0.034 &   -1.156 &      0.078\\\\\n",
       "\tq16* & 18 & 1123 &      3.039 &       1.351 &    4.0 &    3.049 &    1.483 &  1 &         5 &         4 & -0.190 &   -1.348 &      0.040\\\\\n",
       "\tq17* & 19 & 1123 &      1.874 &       1.271 &    1.0 &    1.637 &    0.000 &  1 &         5 &         4 &  1.175 &    0.098 &      0.038\\\\\n",
       "\tq18* & 20 & 1123 &      2.806 &       1.087 &    2.0 &    2.882 &    1.483 &  1 &         4 &         3 & -0.076 &   -1.517 &      0.032\\\\\n",
       "\tq19* & 21 & 1123 &      2.066 &       0.809 &    2.0 &    2.082 &    1.483 &  1 &         3 &         2 & -0.120 &   -1.466 &      0.024\\\\\n",
       "\tq20* & 22 & 1123 &      2.478 &       0.745 &    3.0 &    2.597 &    0.000 &  1 &         3 &         2 & -1.032 &   -0.447 &      0.022\\\\\n",
       "\tq21* & 23 & 1123 &      2.322 &       0.894 &    3.0 &    2.403 &    0.000 &  1 &         3 &         2 & -0.677 &   -1.409 &      0.027\\\\\n",
       "\tq22* & 24 & 1123 &      2.132 &       0.931 &    2.0 &    2.056 &    1.483 &  1 &         4 &         3 &  0.385 &   -0.769 &      0.028\\\\\n",
       "\tq23* & 25 & 1123 &      2.946 &       1.777 &    3.0 &    2.932 &    2.965 &  1 &         5 &         4 &  0.059 &   -1.779 &      0.053\\\\\n",
       "\tq24* & 26 & 1123 &      1.576 &       0.950 &    1.0 &    1.346 &    0.000 &  1 &         4 &         3 &  1.643 &    1.523 &      0.028\\\\\n",
       "\tq25* & 27 & 1123 &      1.801 &       0.400 &    2.0 &    1.875 &    0.000 &  1 &         2 &         1 & -1.502 &    0.257 &      0.012\\\\\n",
       "\tq26* & 28 & 1123 &      1.217 &       0.413 &    1.0 &    1.147 &    0.000 &  1 &         2 &         1 &  1.369 &   -0.125 &      0.012\\\\\n",
       "\tq28\\_grp* & 29 & 1123 &      3.485 &       1.547 &    4.0 &    3.606 &    1.483 &  1 &         5 &         4 & -0.446 &   -1.347 &      0.046\\\\\n",
       "\tvertical* & 30 & 1123 &     10.603 &       5.344 &   10.0 &   10.594 &    7.413 &  1 &        21 &        20 &  0.025 &   -1.387 &      0.159\\\\\n",
       "\trank\\_prefer\\_content* & 31 & 1123 &      3.028 &       1.454 &    3.0 &    3.036 &    1.483 &  1 &         5 &         4 & -0.016 &   -1.251 &      0.043\\\\\n",
       "\trank\\_help\\_topics* & 32 & 1123 &      2.394 &       0.657 &    2.0 &    2.488 &    1.483 &  1 &         3 &         2 & -0.625 &   -0.640 &      0.020\\\\\n",
       "\trank\\_comm\\_method* & 33 & 1123 &      2.505 &       0.902 &    3.0 &    2.506 &    1.483 &  1 &         4 &         3 & -0.109 &   -0.777 &      0.027\\\\\n",
       "\torig\\_clust* & 34 & 1123 &      2.060 &       1.047 &    2.0 &    1.950 &    1.483 &  1 &         4 &         3 &  0.769 &   -0.586 &      0.031\\\\\n",
       "\tq28 & 35 & 1123 &    623.117 &    4997.627 &   47.0 &  102.785 &   59.304 &  0 &    129314 &    129314 & 20.104 &  461.033 &    149.133\\\\\n",
       "\tq29 & 36 & 1123 & 121981.156 & 3433679.480 &  800.0 & 2033.150 &  889.560 &  0 & 115000000 & 115000000 & 33.347 & 1112.653 & 102463.662\\\\\n",
       "\tq30 & 37 & 1123 &   9173.904 &  104261.285 &  483.0 & 1141.360 &  636.035 &  0 &   3137853 &   3137853 & 25.766 &  736.534 &   3111.238\\\\\n",
       "\tq32 & 38 & 1123 &  22260.205 &  194670.541 & 1175.0 & 3021.568 & 1610.104 &  0 &   4388004 &   4388004 & 18.863 &  383.119 &   5809.120\\\\\n",
       "\tq33 & 39 & 1027 &   1894.662 &    8569.916 &  110.0 &  314.849 &  152.708 &  1 &    142459 &    142458 &  9.242 &  109.324 &    267.418\\\\\n",
       "\tq34 & 40 &  833 &     65.709 &      24.326 &   77.0 &   68.925 &   14.826 &  0 &       100 &       100 & -0.953 &   -0.104 &      0.843\\\\\n",
       "\tq35 & 41 & 1123 &  17994.023 &  184799.428 & 1250.0 & 2611.335 & 1559.695 &  0 &   4766870 &   4766870 & 22.503 &  532.846 &   5514.558\\\\\n",
       "\tq36 & 42 & 1109 &    650.200 &     665.860 &  354.0 &  531.883 &  357.307 & 13 &      2664 &      2651 &  1.314 &    0.623 &     19.995\\\\\n",
       "\tq37 & 43 & 1123 &   4481.684 &   48841.278 &  348.3 &  841.520 &  430.517 &  0 &   1572917 &   1572917 & 29.900 &  946.932 &   1457.462\\\\\n",
       "\tq38i & 44 & 1123 &   1880.551 &    8195.266 &  138.0 &  442.226 &  197.186 &  1 &    142459 &    142458 &  9.670 &  119.901 &    244.553\\\\\n",
       "\tq39i & 45 & 1107 &     66.867 &      19.713 &   70.0 &   69.290 &   19.274 &  1 &       100 &        99 & -0.987 &    0.483 &      0.593\\\\\n",
       "\tq40i & 46 & 1123 &    650.057 &     661.700 &  359.0 &  531.674 &  370.650 & 13 &      2664 &      2651 &  1.323 &    0.669 &     19.746\\\\\n",
       "\\end{tabular}\n"
      ],
      "text/markdown": [
       "\n",
       "A psych: 46 × 13\n",
       "\n",
       "| <!--/--> | vars &lt;dbl&gt; | n &lt;dbl&gt; | mean &lt;dbl&gt; | sd &lt;dbl&gt; | median &lt;dbl&gt; | trimmed &lt;dbl&gt; | mad &lt;dbl&gt; | min &lt;dbl&gt; | max &lt;dbl&gt; | range &lt;dbl&gt; | skew &lt;dbl&gt; | kurtosis &lt;dbl&gt; | se &lt;dbl&gt; |\n",
       "|---|---|---|---|---|---|---|---|---|---|---|---|---|---|\n",
       "| uid |  1 | 1123 |    845.045 |     463.324 |  868.0 |  852.764 |  581.179 |  6 |      1618 |      1612 | -0.128 |   -1.161 |     13.826 |\n",
       "| q1 |  2 | 1123 |      0.915 |       0.280 |    1.0 |    1.000 |    0.000 |  0 |         1 |         1 | -2.961 |    6.774 |      0.008 |\n",
       "| q2 |  3 | 1123 |      0.240 |       0.427 |    0.0 |    0.175 |    0.000 |  0 |         1 |         1 |  1.219 |   -0.515 |      0.013 |\n",
       "| q3 |  4 | 1123 |      0.159 |       0.365 |    0.0 |    0.073 |    0.000 |  0 |         1 |         1 |  1.868 |    1.489 |      0.011 |\n",
       "| q4 |  5 | 1123 |      3.387 |       2.447 |    3.0 |    3.057 |    2.965 |  0 |        13 |        13 |  1.165 |    1.252 |      0.073 |\n",
       "| q5 |  6 | 1123 |      3.516 |       2.110 |    3.0 |    3.277 |    1.483 |  1 |        12 |        11 |  1.046 |    1.196 |      0.063 |\n",
       "| q6 |  7 | 1123 |      1.629 |       0.951 |    1.0 |    1.443 |    0.000 |  1 |         6 |         5 |  1.836 |    3.828 |      0.028 |\n",
       "| q7 |  8 | 1123 |      2.866 |       1.461 |    3.0 |    2.763 |    1.483 |  1 |         7 |         6 |  0.422 |   -0.631 |      0.044 |\n",
       "| q8 |  9 | 1123 |     42.265 |     198.963 |    5.0 |    9.567 |    4.448 |  0 |      3000 |      3000 | 10.974 |  143.537 |      5.937 |\n",
       "| q9 | 10 | 1123 |    181.606 |    1545.472 |    9.0 |   20.524 |   10.378 |  0 |     32000 |     32000 | 15.645 |  272.526 |     46.118 |\n",
       "| q10 | 11 | 1123 |     70.678 |    1797.570 |    1.0 |    1.956 |    0.000 |  0 |     60000 |     60000 | 33.016 | 1097.155 |     53.641 |\n",
       "| q11 | 12 | 1123 |     22.398 |      29.888 |   10.0 |   15.776 |   11.861 |  0 |       100 |       100 |  1.685 |    1.516 |      0.892 |\n",
       "| q12 | 13 | 1123 |      4.393 |       0.790 |    5.0 |    4.533 |    0.000 |  1 |         5 |         4 | -1.380 |    2.013 |      0.024 |\n",
       "| q13 | 14 | 1123 |      3.890 |       0.932 |    4.0 |    4.011 |    0.000 |  1 |         5 |         4 | -0.935 |    0.710 |      0.028 |\n",
       "| q11_grp* | 15 | 1123 |      1.095 |       0.294 |    1.0 |    1.000 |    0.000 |  1 |         2 |         1 |  2.753 |    5.585 |      0.009 |\n",
       "| q14* | 16 | 1123 |      1.978 |       0.808 |    2.0 |    1.972 |    1.483 |  1 |         3 |         2 |  0.040 |   -1.468 |      0.024 |\n",
       "| q15* | 17 | 1123 |      4.976 |       2.613 |    5.0 |    4.970 |    2.965 |  1 |         9 |         8 | -0.034 |   -1.156 |      0.078 |\n",
       "| q16* | 18 | 1123 |      3.039 |       1.351 |    4.0 |    3.049 |    1.483 |  1 |         5 |         4 | -0.190 |   -1.348 |      0.040 |\n",
       "| q17* | 19 | 1123 |      1.874 |       1.271 |    1.0 |    1.637 |    0.000 |  1 |         5 |         4 |  1.175 |    0.098 |      0.038 |\n",
       "| q18* | 20 | 1123 |      2.806 |       1.087 |    2.0 |    2.882 |    1.483 |  1 |         4 |         3 | -0.076 |   -1.517 |      0.032 |\n",
       "| q19* | 21 | 1123 |      2.066 |       0.809 |    2.0 |    2.082 |    1.483 |  1 |         3 |         2 | -0.120 |   -1.466 |      0.024 |\n",
       "| q20* | 22 | 1123 |      2.478 |       0.745 |    3.0 |    2.597 |    0.000 |  1 |         3 |         2 | -1.032 |   -0.447 |      0.022 |\n",
       "| q21* | 23 | 1123 |      2.322 |       0.894 |    3.0 |    2.403 |    0.000 |  1 |         3 |         2 | -0.677 |   -1.409 |      0.027 |\n",
       "| q22* | 24 | 1123 |      2.132 |       0.931 |    2.0 |    2.056 |    1.483 |  1 |         4 |         3 |  0.385 |   -0.769 |      0.028 |\n",
       "| q23* | 25 | 1123 |      2.946 |       1.777 |    3.0 |    2.932 |    2.965 |  1 |         5 |         4 |  0.059 |   -1.779 |      0.053 |\n",
       "| q24* | 26 | 1123 |      1.576 |       0.950 |    1.0 |    1.346 |    0.000 |  1 |         4 |         3 |  1.643 |    1.523 |      0.028 |\n",
       "| q25* | 27 | 1123 |      1.801 |       0.400 |    2.0 |    1.875 |    0.000 |  1 |         2 |         1 | -1.502 |    0.257 |      0.012 |\n",
       "| q26* | 28 | 1123 |      1.217 |       0.413 |    1.0 |    1.147 |    0.000 |  1 |         2 |         1 |  1.369 |   -0.125 |      0.012 |\n",
       "| q28_grp* | 29 | 1123 |      3.485 |       1.547 |    4.0 |    3.606 |    1.483 |  1 |         5 |         4 | -0.446 |   -1.347 |      0.046 |\n",
       "| vertical* | 30 | 1123 |     10.603 |       5.344 |   10.0 |   10.594 |    7.413 |  1 |        21 |        20 |  0.025 |   -1.387 |      0.159 |\n",
       "| rank_prefer_content* | 31 | 1123 |      3.028 |       1.454 |    3.0 |    3.036 |    1.483 |  1 |         5 |         4 | -0.016 |   -1.251 |      0.043 |\n",
       "| rank_help_topics* | 32 | 1123 |      2.394 |       0.657 |    2.0 |    2.488 |    1.483 |  1 |         3 |         2 | -0.625 |   -0.640 |      0.020 |\n",
       "| rank_comm_method* | 33 | 1123 |      2.505 |       0.902 |    3.0 |    2.506 |    1.483 |  1 |         4 |         3 | -0.109 |   -0.777 |      0.027 |\n",
       "| orig_clust* | 34 | 1123 |      2.060 |       1.047 |    2.0 |    1.950 |    1.483 |  1 |         4 |         3 |  0.769 |   -0.586 |      0.031 |\n",
       "| q28 | 35 | 1123 |    623.117 |    4997.627 |   47.0 |  102.785 |   59.304 |  0 |    129314 |    129314 | 20.104 |  461.033 |    149.133 |\n",
       "| q29 | 36 | 1123 | 121981.156 | 3433679.480 |  800.0 | 2033.150 |  889.560 |  0 | 115000000 | 115000000 | 33.347 | 1112.653 | 102463.662 |\n",
       "| q30 | 37 | 1123 |   9173.904 |  104261.285 |  483.0 | 1141.360 |  636.035 |  0 |   3137853 |   3137853 | 25.766 |  736.534 |   3111.238 |\n",
       "| q32 | 38 | 1123 |  22260.205 |  194670.541 | 1175.0 | 3021.568 | 1610.104 |  0 |   4388004 |   4388004 | 18.863 |  383.119 |   5809.120 |\n",
       "| q33 | 39 | 1027 |   1894.662 |    8569.916 |  110.0 |  314.849 |  152.708 |  1 |    142459 |    142458 |  9.242 |  109.324 |    267.418 |\n",
       "| q34 | 40 |  833 |     65.709 |      24.326 |   77.0 |   68.925 |   14.826 |  0 |       100 |       100 | -0.953 |   -0.104 |      0.843 |\n",
       "| q35 | 41 | 1123 |  17994.023 |  184799.428 | 1250.0 | 2611.335 | 1559.695 |  0 |   4766870 |   4766870 | 22.503 |  532.846 |   5514.558 |\n",
       "| q36 | 42 | 1109 |    650.200 |     665.860 |  354.0 |  531.883 |  357.307 | 13 |      2664 |      2651 |  1.314 |    0.623 |     19.995 |\n",
       "| q37 | 43 | 1123 |   4481.684 |   48841.278 |  348.3 |  841.520 |  430.517 |  0 |   1572917 |   1572917 | 29.900 |  946.932 |   1457.462 |\n",
       "| q38i | 44 | 1123 |   1880.551 |    8195.266 |  138.0 |  442.226 |  197.186 |  1 |    142459 |    142458 |  9.670 |  119.901 |    244.553 |\n",
       "| q39i | 45 | 1107 |     66.867 |      19.713 |   70.0 |   69.290 |   19.274 |  1 |       100 |        99 | -0.987 |    0.483 |      0.593 |\n",
       "| q40i | 46 | 1123 |    650.057 |     661.700 |  359.0 |  531.674 |  370.650 | 13 |      2664 |      2651 |  1.323 |    0.669 |     19.746 |\n",
       "\n"
      ],
      "text/plain": [
       "                     vars n    mean       sd          median trimmed  mad     \n",
       "uid                   1   1123    845.045     463.324  868.0  852.764  581.179\n",
       "q1                    2   1123      0.915       0.280    1.0    1.000    0.000\n",
       "q2                    3   1123      0.240       0.427    0.0    0.175    0.000\n",
       "q3                    4   1123      0.159       0.365    0.0    0.073    0.000\n",
       "q4                    5   1123      3.387       2.447    3.0    3.057    2.965\n",
       "q5                    6   1123      3.516       2.110    3.0    3.277    1.483\n",
       "q6                    7   1123      1.629       0.951    1.0    1.443    0.000\n",
       "q7                    8   1123      2.866       1.461    3.0    2.763    1.483\n",
       "q8                    9   1123     42.265     198.963    5.0    9.567    4.448\n",
       "q9                   10   1123    181.606    1545.472    9.0   20.524   10.378\n",
       "q10                  11   1123     70.678    1797.570    1.0    1.956    0.000\n",
       "q11                  12   1123     22.398      29.888   10.0   15.776   11.861\n",
       "q12                  13   1123      4.393       0.790    5.0    4.533    0.000\n",
       "q13                  14   1123      3.890       0.932    4.0    4.011    0.000\n",
       "q11_grp*             15   1123      1.095       0.294    1.0    1.000    0.000\n",
       "q14*                 16   1123      1.978       0.808    2.0    1.972    1.483\n",
       "q15*                 17   1123      4.976       2.613    5.0    4.970    2.965\n",
       "q16*                 18   1123      3.039       1.351    4.0    3.049    1.483\n",
       "q17*                 19   1123      1.874       1.271    1.0    1.637    0.000\n",
       "q18*                 20   1123      2.806       1.087    2.0    2.882    1.483\n",
       "q19*                 21   1123      2.066       0.809    2.0    2.082    1.483\n",
       "q20*                 22   1123      2.478       0.745    3.0    2.597    0.000\n",
       "q21*                 23   1123      2.322       0.894    3.0    2.403    0.000\n",
       "q22*                 24   1123      2.132       0.931    2.0    2.056    1.483\n",
       "q23*                 25   1123      2.946       1.777    3.0    2.932    2.965\n",
       "q24*                 26   1123      1.576       0.950    1.0    1.346    0.000\n",
       "q25*                 27   1123      1.801       0.400    2.0    1.875    0.000\n",
       "q26*                 28   1123      1.217       0.413    1.0    1.147    0.000\n",
       "q28_grp*             29   1123      3.485       1.547    4.0    3.606    1.483\n",
       "vertical*            30   1123     10.603       5.344   10.0   10.594    7.413\n",
       "rank_prefer_content* 31   1123      3.028       1.454    3.0    3.036    1.483\n",
       "rank_help_topics*    32   1123      2.394       0.657    2.0    2.488    1.483\n",
       "rank_comm_method*    33   1123      2.505       0.902    3.0    2.506    1.483\n",
       "orig_clust*          34   1123      2.060       1.047    2.0    1.950    1.483\n",
       "q28                  35   1123    623.117    4997.627   47.0  102.785   59.304\n",
       "q29                  36   1123 121981.156 3433679.480  800.0 2033.150  889.560\n",
       "q30                  37   1123   9173.904  104261.285  483.0 1141.360  636.035\n",
       "q32                  38   1123  22260.205  194670.541 1175.0 3021.568 1610.104\n",
       "q33                  39   1027   1894.662    8569.916  110.0  314.849  152.708\n",
       "q34                  40    833     65.709      24.326   77.0   68.925   14.826\n",
       "q35                  41   1123  17994.023  184799.428 1250.0 2611.335 1559.695\n",
       "q36                  42   1109    650.200     665.860  354.0  531.883  357.307\n",
       "q37                  43   1123   4481.684   48841.278  348.3  841.520  430.517\n",
       "q38i                 44   1123   1880.551    8195.266  138.0  442.226  197.186\n",
       "q39i                 45   1107     66.867      19.713   70.0   69.290   19.274\n",
       "q40i                 46   1123    650.057     661.700  359.0  531.674  370.650\n",
       "                     min max       range     skew   kurtosis se        \n",
       "uid                   6       1618      1612 -0.128   -1.161     13.826\n",
       "q1                    0          1         1 -2.961    6.774      0.008\n",
       "q2                    0          1         1  1.219   -0.515      0.013\n",
       "q3                    0          1         1  1.868    1.489      0.011\n",
       "q4                    0         13        13  1.165    1.252      0.073\n",
       "q5                    1         12        11  1.046    1.196      0.063\n",
       "q6                    1          6         5  1.836    3.828      0.028\n",
       "q7                    1          7         6  0.422   -0.631      0.044\n",
       "q8                    0       3000      3000 10.974  143.537      5.937\n",
       "q9                    0      32000     32000 15.645  272.526     46.118\n",
       "q10                   0      60000     60000 33.016 1097.155     53.641\n",
       "q11                   0        100       100  1.685    1.516      0.892\n",
       "q12                   1          5         4 -1.380    2.013      0.024\n",
       "q13                   1          5         4 -0.935    0.710      0.028\n",
       "q11_grp*              1          2         1  2.753    5.585      0.009\n",
       "q14*                  1          3         2  0.040   -1.468      0.024\n",
       "q15*                  1          9         8 -0.034   -1.156      0.078\n",
       "q16*                  1          5         4 -0.190   -1.348      0.040\n",
       "q17*                  1          5         4  1.175    0.098      0.038\n",
       "q18*                  1          4         3 -0.076   -1.517      0.032\n",
       "q19*                  1          3         2 -0.120   -1.466      0.024\n",
       "q20*                  1          3         2 -1.032   -0.447      0.022\n",
       "q21*                  1          3         2 -0.677   -1.409      0.027\n",
       "q22*                  1          4         3  0.385   -0.769      0.028\n",
       "q23*                  1          5         4  0.059   -1.779      0.053\n",
       "q24*                  1          4         3  1.643    1.523      0.028\n",
       "q25*                  1          2         1 -1.502    0.257      0.012\n",
       "q26*                  1          2         1  1.369   -0.125      0.012\n",
       "q28_grp*              1          5         4 -0.446   -1.347      0.046\n",
       "vertical*             1         21        20  0.025   -1.387      0.159\n",
       "rank_prefer_content*  1          5         4 -0.016   -1.251      0.043\n",
       "rank_help_topics*     1          3         2 -0.625   -0.640      0.020\n",
       "rank_comm_method*     1          4         3 -0.109   -0.777      0.027\n",
       "orig_clust*           1          4         3  0.769   -0.586      0.031\n",
       "q28                   0     129314    129314 20.104  461.033    149.133\n",
       "q29                   0  115000000 115000000 33.347 1112.653 102463.662\n",
       "q30                   0    3137853   3137853 25.766  736.534   3111.238\n",
       "q32                   0    4388004   4388004 18.863  383.119   5809.120\n",
       "q33                   1     142459    142458  9.242  109.324    267.418\n",
       "q34                   0        100       100 -0.953   -0.104      0.843\n",
       "q35                   0    4766870   4766870 22.503  532.846   5514.558\n",
       "q36                  13       2664      2651  1.314    0.623     19.995\n",
       "q37                   0    1572917   1572917 29.900  946.932   1457.462\n",
       "q38i                  1     142459    142458  9.670  119.901    244.553\n",
       "q39i                  1        100        99 -0.987    0.483      0.593\n",
       "q40i                 13       2664      2651  1.323    0.669     19.746"
      ]
     },
     "metadata": {},
     "output_type": "display_data"
    }
   ],
   "source": [
    "df_e <- psych::describe(df)\n",
    "round(df_e, 3)"
   ]
  },
  {
   "cell_type": "markdown",
   "metadata": {},
   "source": [
    "Summary \n",
    "\n",
    "Among the numeric variables, significant skew is observed in the folowing variables:  q4, q6, q8, q9, q10, q11, q12.  These variables should be transformed prior to being included in the analysis. \n",
    "\n",
    "The CRM variables (q27 - q33) also show severe skew (except q29); these will all need to be transformed before further analysis.  "
   ]
  },
  {
   "cell_type": "markdown",
   "metadata": {},
   "source": [
    "# Evaluate Variables for Skew\n"
   ]
  },
  {
   "cell_type": "code",
   "execution_count": 8,
   "metadata": {},
   "outputs": [
    {
     "name": "stderr",
     "output_type": "stream",
     "text": [
      "`stat_bin()` using `bins = 30`. Pick better value with `binwidth`.\n",
      "\n"
     ]
    },
    {
     "data": {
      "image/png": "[encoded data removed]",
      "text/plain": [
       "plot without title"
      ]
     },
     "metadata": {
      "image/png": {
       "height": 420,
       "width": 420
      }
     },
     "output_type": "display_data"
    }
   ],
   "source": [
    "# the code below shows the distribution of the original, untransformed quant variables from the survey.  The results show\n",
    "# the presence of significant skew in all the variables.  This is problematic for distance-based clustering algoithms such as kmeans\n",
    "# hierarchical methods.  The variables need to be transformed to better approximate a Normal distribution of each variable. \n",
    "cols <- c(\"q4\", \"q5\", \"q6\", \"q7\", \"q8\", \"q9\", \"q10\", \"q11\", \"q12\", \"q13\")\n",
    "\n",
    "df %>% \n",
    "  pivot_longer(q4:q13, names_to = \"question\", values_to = \"response\") %>% \n",
    "  ggplot(aes(x = response)) +\n",
    "  geom_histogram() +\n",
    "  facet_wrap(vars(question), ncol = 3) +\n",
    "  labs(x = \"distribution)\", y = \"frequency\")\n",
    "\n",
    "# apply the transformation and save to new dataframe\n",
    "test_df <- lapply(df[cols], bestNormalize)\n",
    "q4t<- test_df$q4[[1]]\n",
    "q5t<- test_df$q5[[1]]\n",
    "q6t<- test_df$q6[[1]]\n",
    "q7t<- test_df$q7[[1]]\n",
    "q8t<- test_df$q8[[1]]\n",
    "q9t<- test_df$q9[[1]]\n",
    "q10t<- test_df$q10[[1]]\n",
    "q11t<- test_df$q11[[1]]\n",
    "q12t<- test_df$q12[[1]]\n",
    "q13t<- test_df$q13[[1]]\n",
    "df_t = as.data.frame(cbind(q4t, q5t, q6t, q7t, q8t, q9t, q10t, q11t, q12t, q13t))"
   ]
  },
  {
   "cell_type": "code",
   "execution_count": 9,
   "metadata": {},
   "outputs": [
    {
     "name": "stderr",
     "output_type": "stream",
     "text": [
      "`stat_bin()` using `bins = 30`. Pick better value with `binwidth`.\n",
      "\n"
     ]
    },
    {
     "data": {
      "image/png": "[encoded data removed]",
      "text/plain": [
       "plot without title"
      ]
     },
     "metadata": {
      "image/png": {
       "height": 420,
       "width": 420
      }
     },
     "output_type": "display_data"
    }
   ],
   "source": [
    "# the plots below show the result after applying the optimal normalization method to each variable.  The R Package 'bestNormalize' \n",
    "# is a convenient package that applies a number of various transformations to each variable and then selects the transformation\n",
    "# which yields the best approach - best in this case means closest to a Gaussian distribution. \n",
    "\n",
    "df_t %>% \n",
    "  pivot_longer(q4t:q13t, names_to = \"question\", values_to = \"response\") %>% \n",
    "  ggplot(aes(x = response)) +\n",
    "  geom_histogram() +\n",
    "  facet_wrap(vars(question), ncol = 3) +\n",
    "  labs(x = \"distribution\", y = \"frequency\")"
   ]
  },
  {
   "cell_type": "markdown",
   "metadata": {},
   "source": [
    "<hr>\n",
    "\n",
    "# Transform All Variables\n",
    "The code in this blocks transforms all the numeric variables to remove skew, and the re-combines all the numeric and categorical variables into the final dataframe for analysis\n",
    "<hr>"
   ]
  },
  {
   "cell_type": "code",
   "execution_count": 41,
   "metadata": {},
   "outputs": [],
   "source": [
    "# SCALE VARIABLES #####################################################################################\n",
    "# Scale Variables (n = 10)\n",
    "\n",
    "q4n <- df$q4 %>% bestNormalize() %>% .[[1]]  # count of departments using Docusign (q18)\n",
    "q5n <- df$q5 %>% bestNormalize() %>% .[[1]]  # number of Docusign features used (q28)\n",
    "q6n <- df$q6 %>% bestNormalize() %>% .[[1]]  # count of roles of docusign users (q19)\n",
    "q7n <- df$q7 %>% bestNormalize() %>% .[[1]]  # count of admin portal features used (q27)\n",
    "q8n <- df$q8 %>% bestNormalize() %>% .[[1]]  # number of unique senders managed (q51)\n",
    "q9n <- df$q9 %>% bestNormalize() %>% .[[1]]  # number of unique senders in company (q13)\n",
    "q10n <- df$q10 %>% bestNormalize() %>% .[[1]] # number of docusign accounts (q14)\n",
    "q11n <- df$q11 %>% bestNormalize() %>% .[[1]] # % time on DS activities each month (q24_4)\n",
    "q12n <- df$q12 %>% bestNormalize() %>% .[[1]] # satisfaction with DS (q37)\n",
    "q13n <- df$q13 %>% bestNormalize() %>% .[[1]] # confidence level with DS (q21)\n",
    "\n",
    "df_scale <- cbind(df$q4, df$q5, df$q6, df$q7, df$q8, df$q9, df$q10, df$q12, df$q13)\n",
    "\n",
    "\n",
    "#Label numeric variables for convenience: \n",
    "depts_using <- q4n\n",
    "feat_used <- q5n\n",
    "num_roles <- q6n\n",
    "admin_prtl_use <- q7n\n",
    "unq_snd_mng <- q8n\n",
    "unq_snd_cmp <- q9n \n",
    "num_ds_accnts <- q10n\n",
    "time_ds_act <- q11n\n",
    "rate_sat <- q12n\n",
    "rate_conf <- q13n\n",
    "\n",
    "\n",
    "#Combine into new DataFrame\n",
    "df_norm_s <- cbind(depts_using, feat_used, num_roles, admin_prtl_use, unq_snd_mng,unq_snd_cmp, rate_sat)\n",
    "\n",
    "\n",
    "#CATEGORICAL VARIABLES #########################################################################################\n",
    "# Survey Categorical Variables (n = 15)\n",
    "\n",
    "q1  <- df$q1\n",
    "q2  <- df$q2\n",
    "q3  <- df$q3\n",
    "num_locs <- df$q14 # Number of Locations\n",
    "dept <- df$q15 # Your Department\n",
    "job_level <- df$q16 # Level of Responsibility (Staff, Mid_management, VP, etc.)\n",
    "time_resp <- df$q17 # % time spent on responsibilities (group)\n",
    "time_ds_tasks <- df$q18 # % time DS Tasks (group)\n",
    "top_two <- df$q19 # Top 2 outcomes for your role\n",
    "ds_expr <- df$q20 # Level of DS Experience (Beginner, Int., Advanced)\n",
    "sphere_resp <- df$q21 # Sphere of responsibility\n",
    "time_using <- df$q22 # Time using DS in Role\n",
    "freq_use <- df$q23 # Frequency of DS Use\n",
    "ds_role <- df$q24 # Your DS Role\n",
    "admin <- df$q25 # Consider yourself an Admin\n",
    "ds_uni <- df$q26 # Use Docusign University\n",
    "q28_grp <- df$q28_grp\n",
    "q11_grp <- df$q11_grp\n",
    "vert <- df$vertical\n",
    "r_content <- df$rank_prefer_content\n",
    "r_help <- df$rank_help_topics\n",
    "r_comm <- df$rank_comm_method\n",
    "\n",
    "# categorical variables\n",
    "df_cat = as.data.frame(cbind(num_locs, dept, time_resp, time_ds_tasks, ds_expr, ds_role, ds_uni, vert))\n",
    "df_c_s <- mutate_at(df_cat, vars(num_locs, dept, time_resp, time_ds_tasks, ds_expr, ds_role, ds_uni, vert), as.factor)\n",
    "\n",
    "\n",
    "# CRM Variables ##################################################################################################\n",
    "\n",
    "#CRM: original untransformed data\n",
    "q28 <- df$q28\n",
    "q29 <- df$q29\n",
    "q30 <- df$q30 \n",
    "q32 <- df$q32 \n",
    "q33 <- df$q38i \n",
    "q34 <- df$q39i \n",
    "q35 <- df$q35\n",
    "q36 <- df$q40i\n",
    "q37 <- df$q37  \n",
    "\n",
    "\n",
    "# transformed CRM variables to remove skew and normalize\n",
    "thry_day_es_n <- df$q28 %>% bestNormalize() %>% .[[1]]\n",
    "env_purch_n <- df$q29 %>% bestNormalize() %>% .[[1]]\n",
    "env_sent_term_n <- df$q30 %>% bestNormalize() %>% .[[1]]\n",
    "env_sent_life_n <- df$q32 %>% bestNormalize() %>% .[[1]]\n",
    "num_empl_n <- df$q33 %>% bestNormalize() %>% .[[1]]\n",
    "adp_indx_n <- df$q34 %>% bestNormalize() %>% .[[1]]\n",
    "num_trx_n <- df$q35 %>% bestNormalize() %>% .[[1]]\n",
    "days_cust_n <- df$q36 %>% bestNormalize() %>% .[[1]]\n",
    "mmr_n <- df$q37 %>% bestNormalize() %>% .[[1]]\n",
    "num_emp_imp <- df$q38i %>% bestNormalize() %>% .[[1]]  \n",
    "adp_indx_imp <- df$q39i %>% bestNormalize() %>% .[[1]] \n",
    "days_cust_imp <- df$q40i %>% bestNormalize() %>% .[[1]]\n",
    "\n",
    "df_crm_i <- cbind(thry_day_es_n, env_purch_n, env_sent_life_n, num_trx_n, mmr_n)\n",
    "\n",
    "\n",
    "#New DataFrame for Analysis ######################################################################################\n",
    "\n",
    "df_all = cbind(df_norm_s, df_c_s)\n",
    "\n",
    "##################################################################################################################\n",
    "\n",
    "# isolate the original clusters (from the previous vendor)\n",
    "oc = factor(df$orig_clust)\n",
    "\n",
    "# PCA to transform all the CRM variables into a single variable\n",
    "crm_pca <- PCA(df_crm_i, scale.unit = FALSE, ncp = 1, graph = FALSE)\n",
    "DV1 <- crm_pca$ind$coord"
   ]
  },
  {
   "cell_type": "markdown",
   "metadata": {},
   "source": [
    "# Check Correlations and Shape of Data"
   ]
  },
  {
   "cell_type": "code",
   "execution_count": 12,
   "metadata": {},
   "outputs": [
    {
     "name": "stderr",
     "output_type": "stream",
     "text": [
      "Warning message in use.package(\"data.table\"):\n",
      "\"data.table cannot be used without R package bit64 version 0.9.7 or higher.  Please upgrade to take advangage of data.table speedups.\"\n"
     ]
    },
    {
     "name": "stdout",
     "output_type": "stream",
     "text": [
      "  |======================================================================| 100%\n",
      "  |======================================================================| 100%\n"
     ]
    }
   ],
   "source": [
    "df_h2o <- as.h2o(df_all)\n",
    "m_glrm = h2o.glrm(training_frame = df_h2o, loss = \"quadratic\", gamma_x = 0, gamma_y = 1, transform = \"standardize\", k = 2,\n",
    "              seed = 123, max_iterations = 1000, recover_svd=TRUE, init=\"SVD\",\n",
    "                  regularization_x = \"L1\",\n",
    "                  regularization_y = \"L1\")\n",
    "X.m = as.data.frame(h2o.getFrame(m_glrm@model$representation_name))"
   ]
  },
  {
   "cell_type": "code",
   "execution_count": 37,
   "metadata": {},
   "outputs": [
    {
     "data": {
      "image/png": "[encoded data removed]",
      "text/plain": [
       "Plot with title \"Histogram of First GLRM PCA\""
      ]
     },
     "metadata": {
      "image/png": {
       "height": 840,
       "width": 840
      }
     },
     "output_type": "display_data"
    }
   ],
   "source": [
    "g = X.m$Arch1\n",
    "m<-mean(g)\n",
    "std<-sqrt(var(g))\n",
    "hist(g, density=20, breaks=20, prob=TRUE, \n",
    "     xlab=\"x-variable\", ylim=c(0, 7), xlim=c(-1,0), \n",
    "     main=\"Histogram of First GLRM PCA\")\n",
    "curve(dnorm(x, mean=m, sd=std), \n",
    "      col=\"darkblue\", lwd=2, add=TRUE, yaxt=\"n\")"
   ]
  },
  {
   "cell_type": "code",
   "execution_count": 39,
   "metadata": {},
   "outputs": [
    {
     "data": {
      "image/png": "[encoded data removed]",
      "text/plain": [
       "Plot with title \"Histogram of Second GLRM PCA\""
      ]
     },
     "metadata": {
      "image/png": {
       "height": 840,
       "width": 840
      }
     },
     "output_type": "display_data"
    }
   ],
   "source": [
    "\n",
    "g2 = X.m$Arch2\n",
    "m2<-mean(g2)\n",
    "std<-sqrt(var(g2))\n",
    "hist(g2, density=20, breaks=20, prob=TRUE, \n",
    "     xlab=\"x-variable\", ylim=c(0, 7), xlim=c(-1,1), \n",
    "     main=\"Histogram of Second GLRM PCA\")\n",
    "curve(dnorm(x, mean=m2, sd=std), \n",
    "      col=\"darkblue\", lwd=2, add=TRUE, yaxt=\"n\")"
   ]
  },
  {
   "cell_type": "markdown",
   "metadata": {},
   "source": [
    "# Calculuate the Hopkins Statistic (> .8 is good)"
   ]
  },
  {
   "cell_type": "code",
   "execution_count": 327,
   "metadata": {},
   "outputs": [
    {
     "data": {
      "text/html": [
       "0.756804305489633"
      ],
      "text/latex": [
       "0.756804305489633"
      ],
      "text/markdown": [
       "0.756804305489633"
      ],
      "text/plain": [
       "[1] 0.7568043"
      ]
     },
     "metadata": {},
     "output_type": "display_data"
    }
   ],
   "source": [
    "library(factoextra)\n",
    "# Compute Hopkins statistic for iris dataset\n",
    "h.stat <- get_clust_tendency(df_norm_s, n=1122)\n",
    "h.stat$hopkins_stat"
   ]
  },
  {
   "cell_type": "code",
   "execution_count": 328,
   "metadata": {},
   "outputs": [
    {
     "data": {
      "text/html": [
       "0.908115753041221"
      ],
      "text/latex": [
       "0.908115753041221"
      ],
      "text/markdown": [
       "0.908115753041221"
      ],
      "text/plain": [
       "[1] 0.9081158"
      ]
     },
     "metadata": {},
     "output_type": "display_data"
    }
   ],
   "source": [
    "h.stat <- get_clust_tendency(X.m, n=1122)\n",
    "h.stat$hopkins_stat"
   ]
  },
  {
   "cell_type": "code",
   "execution_count": 329,
   "metadata": {},
   "outputs": [
    {
     "data": {
      "text/html": [
       "0.769154404968216"
      ],
      "text/latex": [
       "0.769154404968216"
      ],
      "text/markdown": [
       "0.769154404968216"
      ],
      "text/plain": [
       "[1] 0.7691544"
      ]
     },
     "metadata": {},
     "output_type": "display_data"
    }
   ],
   "source": [
    "h.stat <- get_clust_tendency(df_crm, n=1122)\n",
    "h.stat$hopkins_stat"
   ]
  },
  {
   "cell_type": "markdown",
   "metadata": {},
   "source": [
    "# Variable Selection using Random Forest Regression"
   ]
  },
  {
   "cell_type": "code",
   "execution_count": 44,
   "metadata": {},
   "outputs": [
    {
     "data": {
      "text/plain": [
       "\n",
       "Call:\n",
       " randomForest(formula = df_var_sel$Dim.1 ~ ., data = df_var_sel,      ntree = 300, mtry = 4, nodesize = 4, maxnodes = 30, importance = TRUE,      na.action = na.omit) \n",
       "               Type of random forest: regression\n",
       "                     Number of trees: 300\n",
       "No. of variables tried at each split: 4\n",
       "\n",
       "          Mean of squared residuals: 2.047011\n",
       "                    % Var explained: 44.26"
      ]
     },
     "metadata": {},
     "output_type": "display_data"
    },
    {
     "data": {
      "image/png": "[encoded data removed]",
      "text/plain": [
       "Plot with title \"rf_reg\""
      ]
     },
     "metadata": {
      "image/png": {
       "height": 840,
       "width": 840
      }
     },
     "output_type": "display_data"
    }
   ],
   "source": [
    "#Combine the DV (PCA of CRM variables) with the dataframe containing all variables\n",
    "df_var_sel = cbind(DV1, df_all)\n",
    "#Run the Random Forest Model and Print the Variable Importance Chart\n",
    "rf_reg = randomForest(df_var_sel$Dim.1 ~ ., data=df_var_sel, ntree=300, mtry=4, nodesize = 4,\n",
    "maxnodes=30, importance=TRUE, na.action=na.omit)\n",
    "rf_reg\n",
    "varImpPlot(rf_reg,type=2)"
   ]
  },
  {
   "cell_type": "markdown",
   "metadata": {},
   "source": [
    "# Correlation between Numeric Survey Variables and CRM Variables"
   ]
  },
  {
   "cell_type": "code",
   "execution_count": 148,
   "metadata": {},
   "outputs": [
    {
     "data": {
      "image/png": "[encoded data removed]",
      "text/plain": [
       "Plot with title \"\""
      ]
     },
     "metadata": {
      "image/png": {
       "height": 840,
       "width": 840
      }
     },
     "output_type": "display_data"
    }
   ],
   "source": [
    "corrmatrix <- cor(df_norm_s, df_crm_i)\n",
    "corrplot(corrmatrix, method = 'number')"
   ]
  },
  {
   "cell_type": "markdown",
   "metadata": {},
   "source": [
    "# Correlation between GLRM PCAs and CRM Variables"
   ]
  },
  {
   "cell_type": "code",
   "execution_count": 45,
   "metadata": {},
   "outputs": [
    {
     "data": {
      "image/png": "[encoded data removed]",
      "text/plain": [
       "Plot with title \"\""
      ]
     },
     "metadata": {
      "image/png": {
       "height": 840,
       "width": 840
      }
     },
     "output_type": "display_data"
    }
   ],
   "source": [
    "corrmatrix <- cor(X.m, df_crm_i)\n",
    "corrplot(corrmatrix, method = 'number')"
   ]
  },
  {
   "cell_type": "code",
   "execution_count": 149,
   "metadata": {},
   "outputs": [
    {
     "data": {
      "image/png": "[encoded data removed]",
      "text/plain": [
       "plot without title"
      ]
     },
     "metadata": {
      "image/png": {
       "height": 840,
       "width": 840
      }
     },
     "output_type": "display_data"
    }
   ],
   "source": [
    "fviz_nbclust(X.m, kmeans, method='silhouette')"
   ]
  },
  {
   "cell_type": "code",
   "execution_count": 150,
   "metadata": {},
   "outputs": [
    {
     "data": {
      "image/png": "[encoded data removed]",
      "text/plain": [
       "plot without title"
      ]
     },
     "metadata": {
      "image/png": {
       "height": 840,
       "width": 840
      }
     },
     "output_type": "display_data"
    }
   ],
   "source": [
    "gap_stat <- clusGap(X.m, FUN = hcut, nstart = 25, K.max = 10, B = 50)\n",
    "fviz_gap_stat(gap_stat)"
   ]
  },
  {
   "cell_type": "markdown",
   "metadata": {},
   "source": [
    "# Code to Run All Dimension Reduction and Clustering Functions and Return Plots\n",
    "<hr>"
   ]
  },
  {
   "cell_type": "code",
   "execution_count": 157,
   "metadata": {
    "scrolled": false
   },
   "outputs": [
    {
     "name": "stderr",
     "output_type": "stream",
     "text": [
      "Warning message in use.package(\"data.table\"):\n",
      "\"data.table cannot be used without R package bit64 version 0.9.7 or higher.  Please upgrade to take advangage of data.table speedups.\"\n"
     ]
    },
    {
     "name": "stdout",
     "output_type": "stream",
     "text": [
      "  |======================================================================| 100%\n",
      "  |======================================================================| 100%\n",
      "  cluster size ave.sil.width\n",
      "1       1  344          0.52\n",
      "2       2  143          0.50\n",
      "3       3  636          0.64\n"
     ]
    },
    {
     "name": "stderr",
     "output_type": "stream",
     "text": [
      "Warning message in use.package(\"data.table\"):\n",
      "\"data.table cannot be used without R package bit64 version 0.9.7 or higher.  Please upgrade to take advangage of data.table speedups.\"\n"
     ]
    },
    {
     "name": "stdout",
     "output_type": "stream",
     "text": [
      "  |======================================================================| 100%\n",
      "  |======================================================================| 100%\n"
     ]
    },
    {
     "data": {
      "image/png": "[encoded data removed]",
      "text/plain": [
       "plot without title"
      ]
     },
     "metadata": {
      "image/png": {
       "height": 840,
       "width": 840
      }
     },
     "output_type": "display_data"
    },
    {
     "data": {
      "image/png": "[encoded data removed]",
      "text/plain": [
       "plot without title"
      ]
     },
     "metadata": {
      "image/png": {
       "height": 840,
       "width": 840
      }
     },
     "output_type": "display_data"
    },
    {
     "name": "stdout",
     "output_type": "stream",
     "text": [
      "[1] \"Training Confusion Matrix\"\n"
     ]
    },
    {
     "data": {
      "text/html": [
       "<table>\n",
       "<caption>A H2OTable: 4 × 5</caption>\n",
       "<thead>\n",
       "\t<tr><th></th><th scope=col>1</th><th scope=col>2</th><th scope=col>3</th><th scope=col>Error</th><th scope=col>Rate</th></tr>\n",
       "\t<tr><th></th><th scope=col>&lt;dbl&gt;</th><th scope=col>&lt;dbl&gt;</th><th scope=col>&lt;dbl&gt;</th><th scope=col>&lt;dbl&gt;</th><th scope=col>&lt;chr&gt;</th></tr>\n",
       "</thead>\n",
       "<tbody>\n",
       "\t<tr><th scope=row>1</th><td>292</td><td>  0</td><td>128</td><td>0.3047619</td><td>128 / 420  </td></tr>\n",
       "\t<tr><th scope=row>2</th><td>  6</td><td>339</td><td> 75</td><td>0.1928571</td><td>81 / 420   </td></tr>\n",
       "\t<tr><th scope=row>3</th><td> 51</td><td> 11</td><td>363</td><td>0.1458824</td><td>62 / 425   </td></tr>\n",
       "\t<tr><th scope=row>Totals</th><td>349</td><td>350</td><td>566</td><td>0.2142292</td><td>271 / 1,265</td></tr>\n",
       "</tbody>\n",
       "</table>\n"
      ],
      "text/latex": [
       "A H2OTable: 4 × 5\n",
       "\\begin{tabular}{r|lllll}\n",
       "  & 1 & 2 & 3 & Error & Rate\\\\\n",
       "  & <dbl> & <dbl> & <dbl> & <dbl> & <chr>\\\\\n",
       "\\hline\n",
       "\t1 & 292 &   0 & 128 & 0.3047619 & 128 / 420  \\\\\n",
       "\t2 &   6 & 339 &  75 & 0.1928571 & 81 / 420   \\\\\n",
       "\t3 &  51 &  11 & 363 & 0.1458824 & 62 / 425   \\\\\n",
       "\tTotals & 349 & 350 & 566 & 0.2142292 & 271 / 1,265\\\\\n",
       "\\end{tabular}\n"
      ],
      "text/markdown": [
       "\n",
       "A H2OTable: 4 × 5\n",
       "\n",
       "| <!--/--> | 1 &lt;dbl&gt; | 2 &lt;dbl&gt; | 3 &lt;dbl&gt; | Error &lt;dbl&gt; | Rate &lt;chr&gt; |\n",
       "|---|---|---|---|---|---|\n",
       "| 1 | 292 |   0 | 128 | 0.3047619 | 128 / 420   |\n",
       "| 2 |   6 | 339 |  75 | 0.1928571 | 81 / 420    |\n",
       "| 3 |  51 |  11 | 363 | 0.1458824 | 62 / 425    |\n",
       "| Totals | 349 | 350 | 566 | 0.2142292 | 271 / 1,265 |\n",
       "\n"
      ],
      "text/plain": [
       "       1   2   3   Error     Rate       \n",
       "1      292   0 128 0.3047619 128 / 420  \n",
       "2        6 339  75 0.1928571 81 / 420   \n",
       "3       51  11 363 0.1458824 62 / 425   \n",
       "Totals 349 350 566 0.2142292 271 / 1,265"
      ]
     },
     "metadata": {},
     "output_type": "display_data"
    },
    {
     "name": "stdout",
     "output_type": "stream",
     "text": [
      "[1] \"Validation Confusion Matrix\"\n"
     ]
    },
    {
     "data": {
      "text/html": [
       "<table>\n",
       "<caption>A H2OTable: 4 × 5</caption>\n",
       "<thead>\n",
       "\t<tr><th></th><th scope=col>1</th><th scope=col>2</th><th scope=col>3</th><th scope=col>Error</th><th scope=col>Rate</th></tr>\n",
       "\t<tr><th></th><th scope=col>&lt;dbl&gt;</th><th scope=col>&lt;dbl&gt;</th><th scope=col>&lt;dbl&gt;</th><th scope=col>&lt;dbl&gt;</th><th scope=col>&lt;chr&gt;</th></tr>\n",
       "</thead>\n",
       "<tbody>\n",
       "\t<tr><th scope=row>1</th><td>33</td><td> 2</td><td> 84</td><td>0.7226891</td><td>86 / 119 </td></tr>\n",
       "\t<tr><th scope=row>2</th><td> 1</td><td> 7</td><td> 37</td><td>0.8444444</td><td>38 / 45  </td></tr>\n",
       "\t<tr><th scope=row>3</th><td>24</td><td> 4</td><td>183</td><td>0.1327014</td><td>28 / 211 </td></tr>\n",
       "\t<tr><th scope=row>Totals</th><td>58</td><td>13</td><td>304</td><td>0.4053333</td><td>152 / 375</td></tr>\n",
       "</tbody>\n",
       "</table>\n"
      ],
      "text/latex": [
       "A H2OTable: 4 × 5\n",
       "\\begin{tabular}{r|lllll}\n",
       "  & 1 & 2 & 3 & Error & Rate\\\\\n",
       "  & <dbl> & <dbl> & <dbl> & <dbl> & <chr>\\\\\n",
       "\\hline\n",
       "\t1 & 33 &  2 &  84 & 0.7226891 & 86 / 119 \\\\\n",
       "\t2 &  1 &  7 &  37 & 0.8444444 & 38 / 45  \\\\\n",
       "\t3 & 24 &  4 & 183 & 0.1327014 & 28 / 211 \\\\\n",
       "\tTotals & 58 & 13 & 304 & 0.4053333 & 152 / 375\\\\\n",
       "\\end{tabular}\n"
      ],
      "text/markdown": [
       "\n",
       "A H2OTable: 4 × 5\n",
       "\n",
       "| <!--/--> | 1 &lt;dbl&gt; | 2 &lt;dbl&gt; | 3 &lt;dbl&gt; | Error &lt;dbl&gt; | Rate &lt;chr&gt; |\n",
       "|---|---|---|---|---|---|\n",
       "| 1 | 33 |  2 |  84 | 0.7226891 | 86 / 119  |\n",
       "| 2 |  1 |  7 |  37 | 0.8444444 | 38 / 45   |\n",
       "| 3 | 24 |  4 | 183 | 0.1327014 | 28 / 211  |\n",
       "| Totals | 58 | 13 | 304 | 0.4053333 | 152 / 375 |\n",
       "\n"
      ],
      "text/plain": [
       "       1  2  3   Error     Rate     \n",
       "1      33  2  84 0.7226891 86 / 119 \n",
       "2       1  7  37 0.8444444 38 / 45  \n",
       "3      24  4 183 0.1327014 28 / 211 \n",
       "Totals 58 13 304 0.4053333 152 / 375"
      ]
     },
     "metadata": {},
     "output_type": "display_data"
    },
    {
     "name": "stdout",
     "output_type": "stream",
     "text": [
      "[1] \"Variable Importance\"\n"
     ]
    },
    {
     "data": {
      "text/html": [
       "<table>\n",
       "<caption>A H2OTable: 5 × 4</caption>\n",
       "<thead>\n",
       "\t<tr><th scope=col>variable</th><th scope=col>relative_importance</th><th scope=col>scaled_importance</th><th scope=col>percentage</th></tr>\n",
       "\t<tr><th scope=col>&lt;chr&gt;</th><th scope=col>&lt;dbl&gt;</th><th scope=col>&lt;dbl&gt;</th><th scope=col>&lt;dbl&gt;</th></tr>\n",
       "</thead>\n",
       "<tbody>\n",
       "\t<tr><td>mmr_n          </td><td>11593.961</td><td>1.0000000</td><td>0.3411820</td></tr>\n",
       "\t<tr><td>env_purch_n    </td><td> 7338.535</td><td>0.6329619</td><td>0.2159552</td></tr>\n",
       "\t<tr><td>num_trx_n      </td><td> 6458.486</td><td>0.5570560</td><td>0.1900575</td></tr>\n",
       "\t<tr><td>thry_day_es_n  </td><td> 4780.500</td><td>0.4123267</td><td>0.1406785</td></tr>\n",
       "\t<tr><td>env_sent_life_n</td><td> 3810.265</td><td>0.3286422</td><td>0.1121268</td></tr>\n",
       "</tbody>\n",
       "</table>\n"
      ],
      "text/latex": [
       "A H2OTable: 5 × 4\n",
       "\\begin{tabular}{llll}\n",
       " variable & relative\\_importance & scaled\\_importance & percentage\\\\\n",
       " <chr> & <dbl> & <dbl> & <dbl>\\\\\n",
       "\\hline\n",
       "\t mmr\\_n           & 11593.961 & 1.0000000 & 0.3411820\\\\\n",
       "\t env\\_purch\\_n     &  7338.535 & 0.6329619 & 0.2159552\\\\\n",
       "\t num\\_trx\\_n       &  6458.486 & 0.5570560 & 0.1900575\\\\\n",
       "\t thry\\_day\\_es\\_n   &  4780.500 & 0.4123267 & 0.1406785\\\\\n",
       "\t env\\_sent\\_life\\_n &  3810.265 & 0.3286422 & 0.1121268\\\\\n",
       "\\end{tabular}\n"
      ],
      "text/markdown": [
       "\n",
       "A H2OTable: 5 × 4\n",
       "\n",
       "| variable &lt;chr&gt; | relative_importance &lt;dbl&gt; | scaled_importance &lt;dbl&gt; | percentage &lt;dbl&gt; |\n",
       "|---|---|---|---|\n",
       "| mmr_n           | 11593.961 | 1.0000000 | 0.3411820 |\n",
       "| env_purch_n     |  7338.535 | 0.6329619 | 0.2159552 |\n",
       "| num_trx_n       |  6458.486 | 0.5570560 | 0.1900575 |\n",
       "| thry_day_es_n   |  4780.500 | 0.4123267 | 0.1406785 |\n",
       "| env_sent_life_n |  3810.265 | 0.3286422 | 0.1121268 |\n",
       "\n"
      ],
      "text/plain": [
       "  variable        relative_importance scaled_importance percentage\n",
       "1 mmr_n           11593.961           1.0000000         0.3411820 \n",
       "2 env_purch_n      7338.535           0.6329619         0.2159552 \n",
       "3 num_trx_n        6458.486           0.5570560         0.1900575 \n",
       "4 thry_day_es_n    4780.500           0.4123267         0.1406785 \n",
       "5 env_sent_life_n  3810.265           0.3286422         0.1121268 "
      ]
     },
     "metadata": {},
     "output_type": "display_data"
    },
    {
     "data": {
      "text/html": [
       "<table>\n",
       "<caption>A data.frame: 6 × 9</caption>\n",
       "<thead>\n",
       "\t<tr><th></th><th scope=col>num_locs</th><th scope=col>dept</th><th scope=col>time_resp</th><th scope=col>time_ds_tasks</th><th scope=col>ds_expr</th><th scope=col>ds_role</th><th scope=col>ds_uni</th><th scope=col>vert</th><th scope=col>clusters</th></tr>\n",
       "\t<tr><th></th><th scope=col>&lt;fct&gt;</th><th scope=col>&lt;fct&gt;</th><th scope=col>&lt;fct&gt;</th><th scope=col>&lt;fct&gt;</th><th scope=col>&lt;fct&gt;</th><th scope=col>&lt;fct&gt;</th><th scope=col>&lt;fct&gt;</th><th scope=col>&lt;fct&gt;</th><th scope=col>&lt;fct&gt;</th></tr>\n",
       "</thead>\n",
       "<tbody>\n",
       "\t<tr><th scope=row>1</th><td>6+ </td><td>IT             </td><td>General</td><td>Creating_Templates</td><td>Intermediate</td><td>Administrator (admin)</td><td>No</td><td>Financial Services</td><td>2</td></tr>\n",
       "\t<tr><th scope=row>2</th><td>2-5</td><td>Human resources</td><td>General</td><td>Generalist        </td><td>Intermediate</td><td>Administrator (admin)</td><td>No</td><td>Manufacturing     </td><td>3</td></tr>\n",
       "\t<tr><th scope=row>3</th><td>2-5</td><td>Legal          </td><td>Legal  </td><td>Sending_Envelopes </td><td>Advanced    </td><td>Administrator (admin)</td><td>No</td><td>Telecommunications</td><td>3</td></tr>\n",
       "\t<tr><th scope=row>4</th><td>6+ </td><td>IT             </td><td>IT     </td><td>Generalist        </td><td>Intermediate</td><td>Administrator (admin)</td><td>No</td><td>Technology        </td><td>2</td></tr>\n",
       "\t<tr><th scope=row>5</th><td>2-5</td><td>Other          </td><td>General</td><td>Sending_Envelopes </td><td>Intermediate</td><td>Administrator (admin)</td><td>No</td><td>Government        </td><td>3</td></tr>\n",
       "\t<tr><th scope=row>6</th><td>6+ </td><td>IT             </td><td>IT     </td><td>Creating_Templates</td><td>Intermediate</td><td>Administrator (admin)</td><td>No</td><td>Financial Services</td><td>2</td></tr>\n",
       "</tbody>\n",
       "</table>\n"
      ],
      "text/latex": [
       "A data.frame: 6 × 9\n",
       "\\begin{tabular}{r|lllllllll}\n",
       "  & num\\_locs & dept & time\\_resp & time\\_ds\\_tasks & ds\\_expr & ds\\_role & ds\\_uni & vert & clusters\\\\\n",
       "  & <fct> & <fct> & <fct> & <fct> & <fct> & <fct> & <fct> & <fct> & <fct>\\\\\n",
       "\\hline\n",
       "\t1 & 6+  & IT              & General & Creating\\_Templates & Intermediate & Administrator (admin) & No & Financial Services & 2\\\\\n",
       "\t2 & 2-5 & Human resources & General & Generalist         & Intermediate & Administrator (admin) & No & Manufacturing      & 3\\\\\n",
       "\t3 & 2-5 & Legal           & Legal   & Sending\\_Envelopes  & Advanced     & Administrator (admin) & No & Telecommunications & 3\\\\\n",
       "\t4 & 6+  & IT              & IT      & Generalist         & Intermediate & Administrator (admin) & No & Technology         & 2\\\\\n",
       "\t5 & 2-5 & Other           & General & Sending\\_Envelopes  & Intermediate & Administrator (admin) & No & Government         & 3\\\\\n",
       "\t6 & 6+  & IT              & IT      & Creating\\_Templates & Intermediate & Administrator (admin) & No & Financial Services & 2\\\\\n",
       "\\end{tabular}\n"
      ],
      "text/markdown": [
       "\n",
       "A data.frame: 6 × 9\n",
       "\n",
       "| <!--/--> | num_locs &lt;fct&gt; | dept &lt;fct&gt; | time_resp &lt;fct&gt; | time_ds_tasks &lt;fct&gt; | ds_expr &lt;fct&gt; | ds_role &lt;fct&gt; | ds_uni &lt;fct&gt; | vert &lt;fct&gt; | clusters &lt;fct&gt; |\n",
       "|---|---|---|---|---|---|---|---|---|---|\n",
       "| 1 | 6+  | IT              | General | Creating_Templates | Intermediate | Administrator (admin) | No | Financial Services | 2 |\n",
       "| 2 | 2-5 | Human resources | General | Generalist         | Intermediate | Administrator (admin) | No | Manufacturing      | 3 |\n",
       "| 3 | 2-5 | Legal           | Legal   | Sending_Envelopes  | Advanced     | Administrator (admin) | No | Telecommunications | 3 |\n",
       "| 4 | 6+  | IT              | IT      | Generalist         | Intermediate | Administrator (admin) | No | Technology         | 2 |\n",
       "| 5 | 2-5 | Other           | General | Sending_Envelopes  | Intermediate | Administrator (admin) | No | Government         | 3 |\n",
       "| 6 | 6+  | IT              | IT      | Creating_Templates | Intermediate | Administrator (admin) | No | Financial Services | 2 |\n",
       "\n"
      ],
      "text/plain": [
       "  num_locs dept            time_resp time_ds_tasks      ds_expr     \n",
       "1 6+       IT              General   Creating_Templates Intermediate\n",
       "2 2-5      Human resources General   Generalist         Intermediate\n",
       "3 2-5      Legal           Legal     Sending_Envelopes  Advanced    \n",
       "4 6+       IT              IT        Generalist         Intermediate\n",
       "5 2-5      Other           General   Sending_Envelopes  Intermediate\n",
       "6 6+       IT              IT        Creating_Templates Intermediate\n",
       "  ds_role               ds_uni vert               clusters\n",
       "1 Administrator (admin) No     Financial Services 2       \n",
       "2 Administrator (admin) No     Manufacturing      3       \n",
       "3 Administrator (admin) No     Telecommunications 3       \n",
       "4 Administrator (admin) No     Technology         2       \n",
       "5 Administrator (admin) No     Government         3       \n",
       "6 Administrator (admin) No     Financial Services 2       "
      ]
     },
     "metadata": {},
     "output_type": "display_data"
    },
    {
     "data": {
      "text/html": [
       "<table>\n",
       "<caption>A tibble: 3 × 9</caption>\n",
       "<thead>\n",
       "\t<tr><th scope=col>clusters</th><th scope=col>num_locs</th><th scope=col>dept</th><th scope=col>time_resp</th><th scope=col>time_ds_tasks</th><th scope=col>ds_expr</th><th scope=col>ds_role</th><th scope=col>ds_uni</th><th scope=col>vert</th></tr>\n",
       "\t<tr><th scope=col>&lt;fct&gt;</th><th scope=col>&lt;chr&gt;</th><th scope=col>&lt;chr&gt;</th><th scope=col>&lt;chr&gt;</th><th scope=col>&lt;chr&gt;</th><th scope=col>&lt;chr&gt;</th><th scope=col>&lt;chr&gt;</th><th scope=col>&lt;chr&gt;</th><th scope=col>&lt;chr&gt;</th></tr>\n",
       "</thead>\n",
       "<tbody>\n",
       "\t<tr><td>1</td><td>1  </td><td>Administration</td><td>General</td><td>Sending_Envelopes</td><td>Intermediate</td><td>Basic user           </td><td>No </td><td>Other             </td></tr>\n",
       "\t<tr><td>2</td><td>6+ </td><td>IT            </td><td>IT     </td><td>Generalist       </td><td>Intermediate</td><td>Administrator (admin)</td><td>Yes</td><td>Financial Services</td></tr>\n",
       "\t<tr><td>3</td><td>2-5</td><td>IT            </td><td>General</td><td>Generalist       </td><td>Intermediate</td><td>Administrator (admin)</td><td>No </td><td>Technology        </td></tr>\n",
       "</tbody>\n",
       "</table>\n"
      ],
      "text/latex": [
       "A tibble: 3 × 9\n",
       "\\begin{tabular}{lllllllll}\n",
       " clusters & num\\_locs & dept & time\\_resp & time\\_ds\\_tasks & ds\\_expr & ds\\_role & ds\\_uni & vert\\\\\n",
       " <fct> & <chr> & <chr> & <chr> & <chr> & <chr> & <chr> & <chr> & <chr>\\\\\n",
       "\\hline\n",
       "\t 1 & 1   & Administration & General & Sending\\_Envelopes & Intermediate & Basic user            & No  & Other             \\\\\n",
       "\t 2 & 6+  & IT             & IT      & Generalist        & Intermediate & Administrator (admin) & Yes & Financial Services\\\\\n",
       "\t 3 & 2-5 & IT             & General & Generalist        & Intermediate & Administrator (admin) & No  & Technology        \\\\\n",
       "\\end{tabular}\n"
      ],
      "text/markdown": [
       "\n",
       "A tibble: 3 × 9\n",
       "\n",
       "| clusters &lt;fct&gt; | num_locs &lt;chr&gt; | dept &lt;chr&gt; | time_resp &lt;chr&gt; | time_ds_tasks &lt;chr&gt; | ds_expr &lt;chr&gt; | ds_role &lt;chr&gt; | ds_uni &lt;chr&gt; | vert &lt;chr&gt; |\n",
       "|---|---|---|---|---|---|---|---|---|\n",
       "| 1 | 1   | Administration | General | Sending_Envelopes | Intermediate | Basic user            | No  | Other              |\n",
       "| 2 | 6+  | IT             | IT      | Generalist        | Intermediate | Administrator (admin) | Yes | Financial Services |\n",
       "| 3 | 2-5 | IT             | General | Generalist        | Intermediate | Administrator (admin) | No  | Technology         |\n",
       "\n"
      ],
      "text/plain": [
       "  clusters num_locs dept           time_resp time_ds_tasks     ds_expr     \n",
       "1 1        1        Administration General   Sending_Envelopes Intermediate\n",
       "2 2        6+       IT             IT        Generalist        Intermediate\n",
       "3 3        2-5      IT             General   Generalist        Intermediate\n",
       "  ds_role               ds_uni vert              \n",
       "1 Basic user            No     Other             \n",
       "2 Administrator (admin) Yes    Financial Services\n",
       "3 Administrator (admin) No     Technology        "
      ]
     },
     "metadata": {},
     "output_type": "display_data"
    },
    {
     "data": {
      "text/html": [
       "<table>\n",
       "<caption>A tibble: 3 × 10</caption>\n",
       "<thead>\n",
       "\t<tr><th scope=col>clusters</th><th scope=col>V1</th><th scope=col>V2</th><th scope=col>V3</th><th scope=col>V4</th><th scope=col>V5</th><th scope=col>V6</th><th scope=col>V7</th><th scope=col>V8</th><th scope=col>V9</th></tr>\n",
       "\t<tr><th scope=col>&lt;fct&gt;</th><th scope=col>&lt;dbl&gt;</th><th scope=col>&lt;dbl&gt;</th><th scope=col>&lt;dbl&gt;</th><th scope=col>&lt;dbl&gt;</th><th scope=col>&lt;dbl&gt;</th><th scope=col>&lt;dbl&gt;</th><th scope=col>&lt;dbl&gt;</th><th scope=col>&lt;dbl&gt;</th><th scope=col>&lt;dbl&gt;</th></tr>\n",
       "</thead>\n",
       "<tbody>\n",
       "\t<tr><td>1</td><td>2.453488</td><td>2.136628</td><td>1.305233</td><td>1.715116</td><td> 12.25872</td><td> 23.86337</td><td> 20.14244</td><td>4.383721</td><td>3.674419</td></tr>\n",
       "\t<tr><td>2</td><td>5.328671</td><td>6.055944</td><td>2.349650</td><td>4.664336</td><td>203.83916</td><td>890.31469</td><td>448.02797</td><td>4.440559</td><td>4.146853</td></tr>\n",
       "\t<tr><td>3</td><td>3.455975</td><td>3.690252</td><td>1.641509</td><td>3.084906</td><td> 22.16667</td><td>107.57704</td><td> 13.16667</td><td>4.386792</td><td>3.949686</td></tr>\n",
       "</tbody>\n",
       "</table>\n"
      ],
      "text/latex": [
       "A tibble: 3 × 10\n",
       "\\begin{tabular}{llllllllll}\n",
       " clusters & V1 & V2 & V3 & V4 & V5 & V6 & V7 & V8 & V9\\\\\n",
       " <fct> & <dbl> & <dbl> & <dbl> & <dbl> & <dbl> & <dbl> & <dbl> & <dbl> & <dbl>\\\\\n",
       "\\hline\n",
       "\t 1 & 2.453488 & 2.136628 & 1.305233 & 1.715116 &  12.25872 &  23.86337 &  20.14244 & 4.383721 & 3.674419\\\\\n",
       "\t 2 & 5.328671 & 6.055944 & 2.349650 & 4.664336 & 203.83916 & 890.31469 & 448.02797 & 4.440559 & 4.146853\\\\\n",
       "\t 3 & 3.455975 & 3.690252 & 1.641509 & 3.084906 &  22.16667 & 107.57704 &  13.16667 & 4.386792 & 3.949686\\\\\n",
       "\\end{tabular}\n"
      ],
      "text/markdown": [
       "\n",
       "A tibble: 3 × 10\n",
       "\n",
       "| clusters &lt;fct&gt; | V1 &lt;dbl&gt; | V2 &lt;dbl&gt; | V3 &lt;dbl&gt; | V4 &lt;dbl&gt; | V5 &lt;dbl&gt; | V6 &lt;dbl&gt; | V7 &lt;dbl&gt; | V8 &lt;dbl&gt; | V9 &lt;dbl&gt; |\n",
       "|---|---|---|---|---|---|---|---|---|---|\n",
       "| 1 | 2.453488 | 2.136628 | 1.305233 | 1.715116 |  12.25872 |  23.86337 |  20.14244 | 4.383721 | 3.674419 |\n",
       "| 2 | 5.328671 | 6.055944 | 2.349650 | 4.664336 | 203.83916 | 890.31469 | 448.02797 | 4.440559 | 4.146853 |\n",
       "| 3 | 3.455975 | 3.690252 | 1.641509 | 3.084906 |  22.16667 | 107.57704 |  13.16667 | 4.386792 | 3.949686 |\n",
       "\n"
      ],
      "text/plain": [
       "  clusters V1       V2       V3       V4       V5        V6        V7       \n",
       "1 1        2.453488 2.136628 1.305233 1.715116  12.25872  23.86337  20.14244\n",
       "2 2        5.328671 6.055944 2.349650 4.664336 203.83916 890.31469 448.02797\n",
       "3 3        3.455975 3.690252 1.641509 3.084906  22.16667 107.57704  13.16667\n",
       "  V8       V9      \n",
       "1 4.383721 3.674419\n",
       "2 4.440559 4.146853\n",
       "3 4.386792 3.949686"
      ]
     },
     "metadata": {},
     "output_type": "display_data"
    },
    {
     "data": {
      "image/png": "[encoded data removed]",
      "text/plain": [
       "plot without title"
      ]
     },
     "metadata": {
      "image/png": {
       "height": 840,
       "width": 840
      }
     },
     "output_type": "display_data"
    }
   ],
   "source": [
    "comps = 2   # Specify the number of PCA components (> 2) \n",
    "clusters = 3 # specify the number of clusters\n",
    "ag = 'kmeans'  #choose the algorith: 'kmeans' = kmeans, 'hier' = Hierarchical, 'gmm' = Gaussian Mixture Model  \n",
    "trees = 300\n",
    "depth = 11\n",
    "\n",
    "\n",
    "# This runs all the reduction and clustering functions and returns the result. \n",
    "res <- run_h2(df_all,comps,clusters, ag, trees, depth)  \n",
    "\n",
    "\n",
    "# return specific elements from the functions\n",
    "res[[2]]\n",
    "res[[3]]\n",
    "res[[4]]\n",
    "\n",
    "print(\"Training Confusion Matrix\")\n",
    "res[[1]][[3]]\n",
    "print(\"Validation Confusion Matrix\")\n",
    "res[[1]][[4]]\n",
    "print(\"Variable Importance\")\n",
    "res[[1]][[5]]\n",
    "\n",
    "\n",
    "# This saves the new dataframe with the clusters \n",
    "res.crm = as.data.frame(res[[1]][[2]])\n",
    "\n",
    "df_c_summary <- df_c_s\n",
    "df_c_summary$clusters <- res.crm$clusters\n",
    "head(df_c_summary)\n",
    "\n",
    "df_n_summary <- as.data.frame(df_scale)\n",
    "df_n_summary$clusters <- res.crm$clusters\n",
    "\n",
    "df_c_summary %>% \n",
    "  group_by(clusters) %>% \n",
    "  summarise_if(is.factor, .funs = function(x) { x %>% table %>% which.max %>% names})\n",
    "\n",
    "df_n_summary %>% \n",
    "  group_by(clusters) %>% \n",
    "  summarise_if(is.numeric, funs(mean(., na.rm=TRUE)))"
   ]
  },
  {
   "cell_type": "code",
   "execution_count": 168,
   "metadata": {},
   "outputs": [
    {
     "data": {
      "text/html": [
       "<table>\n",
       "<caption>A tibble: 3 × 11</caption>\n",
       "<thead>\n",
       "\t<tr><th scope=col>clusters</th><th scope=col>q4n</th><th scope=col>q5n</th><th scope=col>q6n</th><th scope=col>q7n</th><th scope=col>q8n</th><th scope=col>q9n</th><th scope=col>q10n</th><th scope=col>q11n</th><th scope=col>q12n</th><th scope=col>q13n</th></tr>\n",
       "\t<tr><th scope=col>&lt;fct&gt;</th><th scope=col>&lt;dbl&gt;</th><th scope=col>&lt;dbl&gt;</th><th scope=col>&lt;dbl&gt;</th><th scope=col>&lt;dbl&gt;</th><th scope=col>&lt;dbl&gt;</th><th scope=col>&lt;dbl&gt;</th><th scope=col>&lt;dbl&gt;</th><th scope=col>&lt;dbl&gt;</th><th scope=col>&lt;dbl&gt;</th><th scope=col>&lt;dbl&gt;</th></tr>\n",
       "</thead>\n",
       "<tbody>\n",
       "\t<tr><td>1</td><td>2.470588</td><td>-0.708078</td><td>1.302941</td><td>-0.8211004</td><td>-0.56093744</td><td>-0.56459481</td><td>-0.24593095</td><td>-0.07156078</td><td>-0.04648756</td><td>-0.25096108</td></tr>\n",
       "\t<tr><td>2</td><td>5.340278</td><td> 1.127418</td><td>2.326389</td><td> 1.1361808</td><td> 1.06058630</td><td> 1.08398150</td><td> 0.24761563</td><td> 0.14216775</td><td> 0.03687807</td><td> 0.24222605</td></tr>\n",
       "\t<tr><td>3</td><td>3.435055</td><td> 0.122689</td><td>1.644757</td><td> 0.1808515</td><td> 0.07219958</td><td> 0.06691712</td><td> 0.07505458</td><td> 0.00591409</td><td> 0.01642462</td><td> 0.07894556</td></tr>\n",
       "</tbody>\n",
       "</table>\n"
      ],
      "text/latex": [
       "A tibble: 3 × 11\n",
       "\\begin{tabular}{lllllllllll}\n",
       " clusters & q4n & q5n & q6n & q7n & q8n & q9n & q10n & q11n & q12n & q13n\\\\\n",
       " <fct> & <dbl> & <dbl> & <dbl> & <dbl> & <dbl> & <dbl> & <dbl> & <dbl> & <dbl> & <dbl>\\\\\n",
       "\\hline\n",
       "\t 1 & 2.470588 & -0.708078 & 1.302941 & -0.8211004 & -0.56093744 & -0.56459481 & -0.24593095 & -0.07156078 & -0.04648756 & -0.25096108\\\\\n",
       "\t 2 & 5.340278 &  1.127418 & 2.326389 &  1.1361808 &  1.06058630 &  1.08398150 &  0.24761563 &  0.14216775 &  0.03687807 &  0.24222605\\\\\n",
       "\t 3 & 3.435055 &  0.122689 & 1.644757 &  0.1808515 &  0.07219958 &  0.06691712 &  0.07505458 &  0.00591409 &  0.01642462 &  0.07894556\\\\\n",
       "\\end{tabular}\n"
      ],
      "text/markdown": [
       "\n",
       "A tibble: 3 × 11\n",
       "\n",
       "| clusters &lt;fct&gt; | q4n &lt;dbl&gt; | q5n &lt;dbl&gt; | q6n &lt;dbl&gt; | q7n &lt;dbl&gt; | q8n &lt;dbl&gt; | q9n &lt;dbl&gt; | q10n &lt;dbl&gt; | q11n &lt;dbl&gt; | q12n &lt;dbl&gt; | q13n &lt;dbl&gt; |\n",
       "|---|---|---|---|---|---|---|---|---|---|---|\n",
       "| 1 | 2.470588 | -0.708078 | 1.302941 | -0.8211004 | -0.56093744 | -0.56459481 | -0.24593095 | -0.07156078 | -0.04648756 | -0.25096108 |\n",
       "| 2 | 5.340278 |  1.127418 | 2.326389 |  1.1361808 |  1.06058630 |  1.08398150 |  0.24761563 |  0.14216775 |  0.03687807 |  0.24222605 |\n",
       "| 3 | 3.435055 |  0.122689 | 1.644757 |  0.1808515 |  0.07219958 |  0.06691712 |  0.07505458 |  0.00591409 |  0.01642462 |  0.07894556 |\n",
       "\n"
      ],
      "text/plain": [
       "  clusters q4n      q5n       q6n      q7n        q8n         q9n        \n",
       "1 1        2.470588 -0.708078 1.302941 -0.8211004 -0.56093744 -0.56459481\n",
       "2 2        5.340278  1.127418 2.326389  1.1361808  1.06058630  1.08398150\n",
       "3 3        3.435055  0.122689 1.644757  0.1808515  0.07219958  0.06691712\n",
       "  q10n        q11n        q12n        q13n       \n",
       "1 -0.24593095 -0.07156078 -0.04648756 -0.25096108\n",
       "2  0.24761563  0.14216775  0.03687807  0.24222605\n",
       "3  0.07505458  0.00591409  0.01642462  0.07894556"
      ]
     },
     "metadata": {},
     "output_type": "display_data"
    }
   ],
   "source": [
    "df_n_summary <- as.data.frame(df_norm)\n",
    "df_n_summary$clusters <- res.crm$clusters\n",
    "\n",
    "\n",
    "df_n_summary %>% \n",
    "  group_by(clusters) %>% \n",
    "  summarise_if(is.numeric, funs(mean(., na.rm=TRUE)))"
   ]
  },
  {
   "cell_type": "markdown",
   "metadata": {},
   "source": [
    "# Comparison to Original Segmentation (Paradoxes)"
   ]
  },
  {
   "cell_type": "code",
   "execution_count": 158,
   "metadata": {},
   "outputs": [],
   "source": [
    "data1 <- res.crm\n",
    "data1$orig_clust <- oc\n",
    "data1$clusters <- factor((data1$clusters), labels=c(\"s1\", \"s2\", \"s3\"))\n",
    "data1$clust_num = res.crm$clusters"
   ]
  },
  {
   "cell_type": "code",
   "execution_count": 159,
   "metadata": {},
   "outputs": [
    {
     "data": {
      "text/plain": [
       "\n",
       "\tPearson's Chi-squared test\n",
       "\n",
       "data:  table(data1$orig_clust, data1$clusters)\n",
       "X-squared = 536.12, df = 6, p-value < 2.2e-16\n"
      ]
     },
     "metadata": {},
     "output_type": "display_data"
    },
    {
     "data": {
      "text/plain": [
       "             \n",
       "               s1  s2  s3\n",
       "  basic_user  216   5 172\n",
       "  entry_level  64  47 350\n",
       "  non_engaged  63   0  15\n",
       "  power_admin   1  91  99"
      ]
     },
     "metadata": {},
     "output_type": "display_data"
    }
   ],
   "source": [
    "#data1$crm_clust <-crm_km$cluster\n",
    "#data1\n",
    "chisq.test(table(data1$orig_clust, data1$clusters))\n",
    "table(data1$orig_clust, data1$clusters)"
   ]
  },
  {
   "cell_type": "markdown",
   "metadata": {},
   "source": [
    "# Multinomial Logistic Regression\n",
    "<hr>"
   ]
  },
  {
   "cell_type": "code",
   "execution_count": 49,
   "metadata": {},
   "outputs": [],
   "source": [
    "library(nnet)"
   ]
  },
  {
   "cell_type": "code",
   "execution_count": 160,
   "metadata": {},
   "outputs": [
    {
     "data": {
      "text/html": [
       "<style>\n",
       ".list-inline {list-style: none; margin:0; padding: 0}\n",
       ".list-inline>li {display: inline-block}\n",
       ".list-inline>li:not(:last-child)::after {content: \"\\00b7\"; padding: 0 .5ex}\n",
       "</style>\n",
       "<ol class=list-inline><li>1123</li><li>6</li></ol>\n"
      ],
      "text/latex": [
       "\\begin{enumerate*}\n",
       "\\item 1123\n",
       "\\item 6\n",
       "\\end{enumerate*}\n"
      ],
      "text/markdown": [
       "1. 1123\n",
       "2. 6\n",
       "\n",
       "\n"
      ],
      "text/plain": [
       "[1] 1123    6"
      ]
     },
     "metadata": {},
     "output_type": "display_data"
    }
   ],
   "source": [
    "df_mn <- res.crm\n",
    "df_mn$clusters <- factor((df_mn$clusters), labels=c(\"s1\", \"s2\", \"s3\"))\n",
    "#df_mn$clusters <- as.factor(df_mn$clusters)\n",
    "dim(df_mn)"
   ]
  },
  {
   "cell_type": "code",
   "execution_count": 161,
   "metadata": {},
   "outputs": [],
   "source": [
    "index <- createDataPartition(df_mn$clusters, p = .70, list=FALSE)\n",
    "train <- df_mn[index,]\n",
    "test <- df_mn[-index,]"
   ]
  },
  {
   "cell_type": "code",
   "execution_count": 162,
   "metadata": {},
   "outputs": [],
   "source": [
    "df_mn$clusters <- relevel(df_mn$clusters, ref = \"s1\")\n",
    "train$clusters <- relevel(train$clusters, ref = \"s1\")\n",
    "test$clusters <- relevel(test$clusters, ref = \"s1\")"
   ]
  },
  {
   "cell_type": "code",
   "execution_count": 163,
   "metadata": {},
   "outputs": [
    {
     "name": "stdout",
     "output_type": "stream",
     "text": [
      "# weights:  21 (12 variable)\n",
      "initial  value 1233.741600 \n",
      "iter  10 value 994.438262\n",
      "iter  20 value 903.004790\n",
      "final  value 902.998919 \n",
      "converged\n"
     ]
    }
   ],
   "source": [
    "multinom_model <- multinom(clusters ~ ., data = df_mn)"
   ]
  },
  {
   "cell_type": "code",
   "execution_count": 164,
   "metadata": {},
   "outputs": [
    {
     "data": {
      "text/plain": [
       "Call:\n",
       "multinom(formula = clusters ~ ., data = df_mn)\n",
       "\n",
       "Coefficients:\n",
       "   (Intercept) thry_day_es_n env_purch_n env_sent_life_n    num_trx_n     mmr_n\n",
       "s2  -1.4006668     0.3326556   1.2808761      -0.5496012 0.4325563898 0.7897573\n",
       "s3   0.8381161     0.2677741   0.4507431      -0.2331353 0.0005329961 0.4535447\n",
       "\n",
       "Std. Errors:\n",
       "   (Intercept) thry_day_es_n env_purch_n env_sent_life_n num_trx_n     mmr_n\n",
       "s2  0.15666069     0.2890227   0.2222680       0.2278335 0.2317216 0.2093813\n",
       "s3  0.07778533     0.1580367   0.1180708       0.1296093 0.1375675 0.1142237\n",
       "\n",
       "Residual Deviance: 1805.998 \n",
       "AIC: 1829.998 "
      ]
     },
     "metadata": {},
     "output_type": "display_data"
    }
   ],
   "source": [
    "summary(multinom_model)"
   ]
  },
  {
   "cell_type": "code",
   "execution_count": 165,
   "metadata": {},
   "outputs": [
    {
     "data": {
      "text/html": [
       "<table>\n",
       "<caption>A matrix: 2 × 6 of type dbl</caption>\n",
       "<thead>\n",
       "\t<tr><th></th><th scope=col>(Intercept)</th><th scope=col>thry_day_es_n</th><th scope=col>env_purch_n</th><th scope=col>env_sent_life_n</th><th scope=col>num_trx_n</th><th scope=col>mmr_n</th></tr>\n",
       "</thead>\n",
       "<tbody>\n",
       "\t<tr><th scope=row>s2</th><td>0</td><td>0.24974579</td><td>8.275199e-09</td><td>0.01585252</td><td>0.0619425</td><td>1.620336e-04</td></tr>\n",
       "\t<tr><th scope=row>s3</th><td>0</td><td>0.09019331</td><td>1.347744e-04</td><td>0.07205766</td><td>0.9969087</td><td>7.167002e-05</td></tr>\n",
       "</tbody>\n",
       "</table>\n"
      ],
      "text/latex": [
       "A matrix: 2 × 6 of type dbl\n",
       "\\begin{tabular}{r|llllll}\n",
       "  & (Intercept) & thry\\_day\\_es\\_n & env\\_purch\\_n & env\\_sent\\_life\\_n & num\\_trx\\_n & mmr\\_n\\\\\n",
       "\\hline\n",
       "\ts2 & 0 & 0.24974579 & 8.275199e-09 & 0.01585252 & 0.0619425 & 1.620336e-04\\\\\n",
       "\ts3 & 0 & 0.09019331 & 1.347744e-04 & 0.07205766 & 0.9969087 & 7.167002e-05\\\\\n",
       "\\end{tabular}\n"
      ],
      "text/markdown": [
       "\n",
       "A matrix: 2 × 6 of type dbl\n",
       "\n",
       "| <!--/--> | (Intercept) | thry_day_es_n | env_purch_n | env_sent_life_n | num_trx_n | mmr_n |\n",
       "|---|---|---|---|---|---|---|\n",
       "| s2 | 0 | 0.24974579 | 8.275199e-09 | 0.01585252 | 0.0619425 | 1.620336e-04 |\n",
       "| s3 | 0 | 0.09019331 | 1.347744e-04 | 0.07205766 | 0.9969087 | 7.167002e-05 |\n",
       "\n"
      ],
      "text/plain": [
       "   (Intercept) thry_day_es_n env_purch_n  env_sent_life_n num_trx_n\n",
       "s2 0           0.24974579    8.275199e-09 0.01585252      0.0619425\n",
       "s3 0           0.09019331    1.347744e-04 0.07205766      0.9969087\n",
       "   mmr_n       \n",
       "s2 1.620336e-04\n",
       "s3 7.167002e-05"
      ]
     },
     "metadata": {},
     "output_type": "display_data"
    }
   ],
   "source": [
    "z <- summary(multinom_model)$coefficients/summary(multinom_model)$standard.errors\n",
    "# 2-tailed Wald z tests to test significance of coefficients\n",
    "p <- (1 - pnorm(abs(z), 0, 1)) * 2\n",
    "p"
   ]
  },
  {
   "cell_type": "code",
   "execution_count": 166,
   "metadata": {},
   "outputs": [
    {
     "data": {
      "text/html": [
       "<table>\n",
       "<caption>A matrix: 2 × 6 of type dbl</caption>\n",
       "<thead>\n",
       "\t<tr><th></th><th scope=col>(Intercept)</th><th scope=col>thry_day_es_n</th><th scope=col>env_purch_n</th><th scope=col>env_sent_life_n</th><th scope=col>num_trx_n</th><th scope=col>mmr_n</th></tr>\n",
       "</thead>\n",
       "<tbody>\n",
       "\t<tr><th scope=row>s2</th><td>0.2464326</td><td>1.394667</td><td>3.599792</td><td>0.5771799</td><td>1.541192</td><td>2.202862</td></tr>\n",
       "\t<tr><th scope=row>s3</th><td>2.3120073</td><td>1.307052</td><td>1.569478</td><td>0.7920464</td><td>1.000533</td><td>1.573881</td></tr>\n",
       "</tbody>\n",
       "</table>\n"
      ],
      "text/latex": [
       "A matrix: 2 × 6 of type dbl\n",
       "\\begin{tabular}{r|llllll}\n",
       "  & (Intercept) & thry\\_day\\_es\\_n & env\\_purch\\_n & env\\_sent\\_life\\_n & num\\_trx\\_n & mmr\\_n\\\\\n",
       "\\hline\n",
       "\ts2 & 0.2464326 & 1.394667 & 3.599792 & 0.5771799 & 1.541192 & 2.202862\\\\\n",
       "\ts3 & 2.3120073 & 1.307052 & 1.569478 & 0.7920464 & 1.000533 & 1.573881\\\\\n",
       "\\end{tabular}\n"
      ],
      "text/markdown": [
       "\n",
       "A matrix: 2 × 6 of type dbl\n",
       "\n",
       "| <!--/--> | (Intercept) | thry_day_es_n | env_purch_n | env_sent_life_n | num_trx_n | mmr_n |\n",
       "|---|---|---|---|---|---|---|\n",
       "| s2 | 0.2464326 | 1.394667 | 3.599792 | 0.5771799 | 1.541192 | 2.202862 |\n",
       "| s3 | 2.3120073 | 1.307052 | 1.569478 | 0.7920464 | 1.000533 | 1.573881 |\n",
       "\n"
      ],
      "text/plain": [
       "   (Intercept) thry_day_es_n env_purch_n env_sent_life_n num_trx_n mmr_n   \n",
       "s2 0.2464326   1.394667      3.599792    0.5771799       1.541192  2.202862\n",
       "s3 2.3120073   1.307052      1.569478    0.7920464       1.000533  1.573881"
      ]
     },
     "metadata": {},
     "output_type": "display_data"
    }
   ],
   "source": [
    "exp(coef(multinom_model))"
   ]
  },
  {
   "cell_type": "code",
   "execution_count": 167,
   "metadata": {},
   "outputs": [
    {
     "data": {
      "text/plain": [
       "Confusion Matrix and Statistics\n",
       "\n",
       "          Reference\n",
       "Prediction  s1  s2  s3\n",
       "        s1  86   3 152\n",
       "        s2   2  25  74\n",
       "        s3  58  10 378\n",
       "\n",
       "Overall Statistics\n",
       "                                          \n",
       "               Accuracy : 0.6206          \n",
       "                 95% CI : (0.5856, 0.6546)\n",
       "    No Information Rate : 0.7665          \n",
       "    P-Value [Acc > NIR] : 1               \n",
       "                                          \n",
       "                  Kappa : 0.2461          \n",
       "                                          \n",
       " Mcnemar's Test P-Value : <2e-16          \n",
       "\n",
       "Statistics by Class:\n",
       "\n",
       "                     Class: s1 Class: s2 Class: s3\n",
       "Sensitivity             0.5890   0.65789    0.6258\n",
       "Specificity             0.7586   0.89867    0.6304\n",
       "Pos Pred Value          0.3568   0.24752    0.8475\n",
       "Neg Pred Value          0.8903   0.98108    0.3392\n",
       "Prevalence              0.1853   0.04822    0.7665\n",
       "Detection Rate          0.1091   0.03173    0.4797\n",
       "Detection Prevalence    0.3058   0.12817    0.5660\n",
       "Balanced Accuracy       0.6738   0.77828    0.6281"
      ]
     },
     "metadata": {},
     "output_type": "display_data"
    }
   ],
   "source": [
    "# Predicting the values for train dataset\n",
    "train$clusterPredicted <- predict(multinom_model, newdata=train, type=\"class\")\n",
    "# Building classification table\n",
    "tab <- table(train$clusterPredicted, train$clusters)\n",
    "# Confusion Matrix\n",
    "confusionMatrix(train$clusters, train$clusterPredicted)"
   ]
  },
  {
   "cell_type": "code",
   "execution_count": 168,
   "metadata": {},
   "outputs": [
    {
     "data": {
      "text/plain": [
       "Confusion Matrix and Statistics\n",
       "\n",
       "          Reference\n",
       "Prediction  s1  s2  s3\n",
       "        s1  44   0  59\n",
       "        s2   1   5  36\n",
       "        s3  39   6 145\n",
       "\n",
       "Overall Statistics\n",
       "                                          \n",
       "               Accuracy : 0.5791          \n",
       "                 95% CI : (0.5242, 0.6326)\n",
       "    No Information Rate : 0.7164          \n",
       "    P-Value [Acc > NIR] : 1               \n",
       "                                          \n",
       "                  Kappa : 0.1787          \n",
       "                                          \n",
       " Mcnemar's Test P-Value : 7.457e-06       \n",
       "\n",
       "Statistics by Class:\n",
       "\n",
       "                     Class: s1 Class: s2 Class: s3\n",
       "Sensitivity             0.5238   0.45455    0.6042\n",
       "Specificity             0.7649   0.88580    0.5263\n",
       "Pos Pred Value          0.4272   0.11905    0.7632\n",
       "Neg Pred Value          0.8276   0.97952    0.3448\n",
       "Prevalence              0.2507   0.03284    0.7164\n",
       "Detection Rate          0.1313   0.01493    0.4328\n",
       "Detection Prevalence    0.3075   0.12537    0.5672\n",
       "Balanced Accuracy       0.6444   0.67017    0.5652"
      ]
     },
     "metadata": {},
     "output_type": "display_data"
    }
   ],
   "source": [
    "# Predicting the class for test dataset\n",
    "test$clusterPredicted <- predict(multinom_model, newdata = test, type=\"class\")\n",
    "# Building classification table\n",
    "tab <- table(test$clusters, test$clusterPredicted)\n",
    "confusionMatrix(test$clusters,test$clusterPredicted)"
   ]
  },
  {
   "cell_type": "markdown",
   "metadata": {},
   "source": [
    "# K-Prototypes\n",
    "<hr>\n",
    "\n",
    "With K-Prototypes we can use a mixture of numeric and categorical variables in the model.  For this analysis we have first applied PCA to only the numberic variables in the dataset and then appended the categorical variables to the PCAs to create a unified dataset.  Once created, we applied the K-Prototypes algorithm to the entire set of variables. \n",
    "<hr>"
   ]
  },
  {
   "cell_type": "code",
   "execution_count": 133,
   "metadata": {
    "scrolled": false
   },
   "outputs": [
    {
     "name": "stdout",
     "output_type": "stream",
     "text": [
      "# NAs in variables:\n",
      "   depts_using      feat_used      num_roles admin_prtl_use    unq_snd_mng \n",
      "             0              0              0              0              0 \n",
      "   unq_snd_cmp       rate_sat       num_locs           dept      time_resp \n",
      "             0              0              0              0              0 \n",
      " time_ds_tasks        ds_expr        ds_role         ds_uni           vert \n",
      "             0              0              0              0              0 \n",
      "0 observation(s) with NAs.\n",
      "\n",
      "Estimated lambda: 1.541568 \n",
      "\n",
      "# NAs in variables:\n",
      "   depts_using      feat_used      num_roles admin_prtl_use    unq_snd_mng \n",
      "             0              0              0              0              0 \n",
      "   unq_snd_cmp       rate_sat       num_locs           dept      time_resp \n",
      "             0              0              0              0              0 \n",
      " time_ds_tasks        ds_expr        ds_role         ds_uni           vert \n",
      "             0              0              0              0              0 \n",
      "0 observation(s) with NAs.\n",
      "\n",
      "Estimated lambda: 1.541568 \n",
      "\n",
      "# NAs in variables:\n",
      "   depts_using      feat_used      num_roles admin_prtl_use    unq_snd_mng \n",
      "             0              0              0              0              0 \n",
      "   unq_snd_cmp       rate_sat       num_locs           dept      time_resp \n",
      "             0              0              0              0              0 \n",
      " time_ds_tasks        ds_expr        ds_role         ds_uni           vert \n",
      "             0              0              0              0              0 \n",
      "0 observation(s) with NAs.\n",
      "\n",
      "Estimated lambda: 1.541568 \n",
      "\n",
      "# NAs in variables:\n",
      "   depts_using      feat_used      num_roles admin_prtl_use    unq_snd_mng \n",
      "             0              0              0              0              0 \n",
      "   unq_snd_cmp       rate_sat       num_locs           dept      time_resp \n",
      "             0              0              0              0              0 \n",
      " time_ds_tasks        ds_expr        ds_role         ds_uni           vert \n",
      "             0              0              0              0              0 \n",
      "0 observation(s) with NAs.\n",
      "\n",
      "Estimated lambda: 1.541568 \n",
      "\n",
      "# NAs in variables:\n",
      "   depts_using      feat_used      num_roles admin_prtl_use    unq_snd_mng \n",
      "             0              0              0              0              0 \n",
      "   unq_snd_cmp       rate_sat       num_locs           dept      time_resp \n",
      "             0              0              0              0              0 \n",
      " time_ds_tasks        ds_expr        ds_role         ds_uni           vert \n",
      "             0              0              0              0              0 \n",
      "0 observation(s) with NAs.\n",
      "\n",
      "Estimated lambda: 1.541568 \n",
      "\n",
      "# NAs in variables:\n",
      "   depts_using      feat_used      num_roles admin_prtl_use    unq_snd_mng \n",
      "             0              0              0              0              0 \n",
      "   unq_snd_cmp       rate_sat       num_locs           dept      time_resp \n",
      "             0              0              0              0              0 \n",
      " time_ds_tasks        ds_expr        ds_role         ds_uni           vert \n",
      "             0              0              0              0              0 \n",
      "0 observation(s) with NAs.\n",
      "\n",
      "Estimated lambda: 1.541568 \n",
      "\n",
      "# NAs in variables:\n",
      "   depts_using      feat_used      num_roles admin_prtl_use    unq_snd_mng \n",
      "             0              0              0              0              0 \n",
      "   unq_snd_cmp       rate_sat       num_locs           dept      time_resp \n",
      "             0              0              0              0              0 \n",
      " time_ds_tasks        ds_expr        ds_role         ds_uni           vert \n",
      "             0              0              0              0              0 \n",
      "0 observation(s) with NAs.\n",
      "\n",
      "Estimated lambda: 1.541568 \n",
      "\n"
     ]
    },
    {
     "data": {
      "text/html": [
       "<style>\n",
       ".list-inline {list-style: none; margin:0; padding: 0}\n",
       ".list-inline>li {display: inline-block}\n",
       ".list-inline>li:not(:last-child)::after {content: \"\\00b7\"; padding: 0 .5ex}\n",
       "</style>\n",
       "<ol class=list-inline><li>15017.6455703192</li><li>12837.6176403481</li><li>12135.9312403371</li><li>11668.4817262982</li><li>11277.3840965486</li><li>10828.36569377</li><li>10585.1515958152</li></ol>\n"
      ],
      "text/latex": [
       "\\begin{enumerate*}\n",
       "\\item 15017.6455703192\n",
       "\\item 12837.6176403481\n",
       "\\item 12135.9312403371\n",
       "\\item 11668.4817262982\n",
       "\\item 11277.3840965486\n",
       "\\item 10828.36569377\n",
       "\\item 10585.1515958152\n",
       "\\end{enumerate*}\n"
      ],
      "text/markdown": [
       "1. 15017.6455703192\n",
       "2. 12837.6176403481\n",
       "3. 12135.9312403371\n",
       "4. 11668.4817262982\n",
       "5. 11277.3840965486\n",
       "6. 10828.36569377\n",
       "7. 10585.1515958152\n",
       "\n",
       "\n"
      ],
      "text/plain": [
       "[1] 15017.65 12837.62 12135.93 11668.48 11277.38 10828.37 10585.15"
      ]
     },
     "metadata": {},
     "output_type": "display_data"
    },
    {
     "data": {
      "image/png": "[encoded data removed]",
      "text/plain": [
       "plot without title"
      ]
     },
     "metadata": {
      "image/png": {
       "height": 840,
       "width": 840
      }
     },
     "output_type": "display_data"
    }
   ],
   "source": [
    "# Combine the PCAs from the numerical dataset and the categorical variables into a single DataFrame\n",
    "  df_kp <-df_all    \n",
    "  \n",
    "#algorithm to find the optimal number of K-Prototypes clusters\n",
    "# Compute and plot wss for k = 2 to k = 15.\n",
    "  k.max <- 7\n",
    "  data <- na.omit(df_kp) # to remove the rows with NA's\n",
    "  wss <- sapply(1:k.max, \n",
    "                function(k){kproto(data, k)$tot.withinss})\n",
    "  wss\n",
    "  plot(1:k.max, wss,\n",
    "       type=\"b\", pch = 19, frame = FALSE, \n",
    "       xlab=\"Number of clusters K\",\n",
    "       ylab=\"Total within-clusters sum of squares\")\n",
    "\n"
   ]
  },
  {
   "cell_type": "code",
   "execution_count": 134,
   "metadata": {},
   "outputs": [
    {
     "data": {
      "text/html": [
       "<style>\n",
       ".list-inline {list-style: none; margin:0; padding: 0}\n",
       ".list-inline>li {display: inline-block}\n",
       ".list-inline>li:not(:last-child)::after {content: \"\\00b7\"; padding: 0 .5ex}\n",
       "</style>\n",
       "<ol class=list-inline><li>1123</li><li>15</li></ol>\n"
      ],
      "text/latex": [
       "\\begin{enumerate*}\n",
       "\\item 1123\n",
       "\\item 15\n",
       "\\end{enumerate*}\n"
      ],
      "text/markdown": [
       "1. 1123\n",
       "2. 15\n",
       "\n",
       "\n"
      ],
      "text/plain": [
       "[1] 1123   15"
      ]
     },
     "metadata": {},
     "output_type": "display_data"
    }
   ],
   "source": [
    "dim(df_all)"
   ]
  },
  {
   "cell_type": "code",
   "execution_count": 174,
   "metadata": {},
   "outputs": [
    {
     "data": {
      "text/html": [
       "1123"
      ],
      "text/latex": [
       "1123"
      ],
      "text/markdown": [
       "1123"
      ],
      "text/plain": [
       "[1] 1123"
      ]
     },
     "metadata": {},
     "output_type": "display_data"
    },
    {
     "data": {
      "text/html": [
       "0.163426164854835"
      ],
      "text/latex": [
       "0.163426164854835"
      ],
      "text/markdown": [
       "0.163426164854835"
      ],
      "text/plain": [
       "[1] 0.1634262"
      ]
     },
     "metadata": {},
     "output_type": "display_data"
    },
    {
     "data": {
      "image/png": "[encoded data removed]",
      "text/plain": [
       "plot without title"
      ]
     },
     "metadata": {
      "image/png": {
       "height": 840,
       "width": 840
      }
     },
     "output_type": "display_data"
    }
   ],
   "source": [
    "# Run the K Prototype Algorithm \n",
    "  kpres <- kproto(df_kp, 3, iter.max=20, nstart=15, keep.data=TRUE, verbose=FALSE)\n",
    "  kproto_label <- kpres$cluster\n",
    "  length(kproto_label)\n",
    "  \n",
    "  ggplot() + geom_point(data = as.data.frame(X.m), mapping = aes(x = X.m[,1], y = X.m[,2], col = as.factor(kproto_label))) + scale_fill_brewer(palette=\"Set1\")\n",
    "\n",
    "  \n",
    "  # calculate index-value\n",
    "  val <- validation_kproto(method = \"silhouette\", object=kpres, data = df_kp, k = 2:5, nstart = 15)\n",
    "  val"
   ]
  },
  {
   "cell_type": "code",
   "execution_count": 175,
   "metadata": {},
   "outputs": [
    {
     "data": {
      "text/plain": [
       "Numeric predictors: 7 \n",
       "Categorical predictors: 8 \n",
       "Lambda: 1.541568 \n",
       "\n",
       "Number of Clusters: 3 \n",
       "Cluster sizes: 343 433 347 \n",
       "Within cluster error: 3309.35 4774.976 3970.473 \n",
       "\n",
       "Cluster prototypes:\n",
       "  depts_using  feat_used num_roles admin_prtl_use unq_snd_mng unq_snd_cmp\n",
       "1  -0.1378614  0.2610503  1.758017      0.3705006  -0.6203295  -0.7563909\n",
       "2   0.4307001  0.5281067  1.838337      0.5887428   0.7133519   0.7829930\n",
       "3  -0.4011721 -0.9170331  1.239193     -1.1008857  -0.2535075  -0.2095181\n",
       "      rate_sat num_locs           dept time_resp     time_ds_tasks      ds_expr\n",
       "1  0.149009861        1 Administration   General Sending_Envelopes Intermediate\n",
       "2 -0.005900468       6+             IT   General        Generalist Intermediate\n",
       "3 -0.139929336        1          Sales   General Sending_Envelopes Intermediate\n",
       "                ds_role ds_uni               vert\n",
       "1 Administrator (admin)     No              Other\n",
       "2 Administrator (admin)     No Financial Services\n",
       "3            Basic user     No  Business Services"
      ]
     },
     "metadata": {},
     "output_type": "display_data"
    }
   ],
   "source": [
    "kpres"
   ]
  },
  {
   "cell_type": "code",
   "execution_count": 176,
   "metadata": {},
   "outputs": [],
   "source": [
    "kp_crm <- df_crm_i"
   ]
  },
  {
   "cell_type": "code",
   "execution_count": 177,
   "metadata": {},
   "outputs": [],
   "source": [
    "kp_crm <- as.data.frame(kp_crm)\n",
    "kp_crm$clusters = kpres$cluster"
   ]
  },
  {
   "cell_type": "code",
   "execution_count": 178,
   "metadata": {},
   "outputs": [
    {
     "data": {
      "text/plain": [
       "\n",
       "Call:\n",
       " randomForest(formula = as.factor(clusters) ~ ., data = na.omit(kp_crm),      ntree = 2000, mtry = 2, importance = TRUE) \n",
       "               Type of random forest: classification\n",
       "                     Number of trees: 2000\n",
       "No. of variables tried at each split: 2\n",
       "\n",
       "        OOB estimate of  error rate: 48.8%\n",
       "Confusion matrix:\n",
       "    1   2   3 class.error\n",
       "1 141  76 126   0.5889213\n",
       "2  56 323  54   0.2540416\n",
       "3 130 106 111   0.6801153"
      ]
     },
     "metadata": {},
     "output_type": "display_data"
    },
    {
     "data": {
      "text/plain": [
       "                  Df Sum Sq Mean Sq F value  Pr(>F)   \n",
       "thry_day_es_n      1    0.1   0.135   0.221 0.63810   \n",
       "env_purch_n        1    4.1   4.080   6.673 0.00991 **\n",
       "env_sent_life_n    1    0.0   0.031   0.051 0.82139   \n",
       "num_trx_n          1    1.9   1.882   3.078 0.07963 . \n",
       "mmr_n              1    0.9   0.937   1.533 0.21592   \n",
       "Residuals       1117  682.9   0.611                   \n",
       "---\n",
       "Signif. codes:  0 '***' 0.001 '**' 0.01 '*' 0.05 '.' 0.1 ' ' 1"
      ]
     },
     "metadata": {},
     "output_type": "display_data"
    }
   ],
   "source": [
    "## Random Forest \n",
    "  rf_classifier = randomForest(as.factor(clusters) ~ ., data=na.omit(kp_crm), ntree=2000, mtry=2, importance=TRUE)\n",
    "  rf_classifier\n",
    "\n",
    "\n",
    "# ANOVA \n",
    "  anova <- aov(clusters ~ ., data = na.omit(kp_crm))\n",
    "  summary(anova)\n",
    "  \n",
    "# Cluster Profiles \n",
    "  #clprofiles(kpres, df_kp)"
   ]
  },
  {
   "cell_type": "code",
   "execution_count": 139,
   "metadata": {
    "scrolled": false
   },
   "outputs": [
    {
     "data": {
      "image/png": "[encoded data removed]",
      "text/plain": [
       "Plot with title \"depts_using\""
      ]
     },
     "metadata": {
      "image/png": {
       "height": 840,
       "width": 840
      }
     },
     "output_type": "display_data"
    },
    {
     "data": {
      "image/png": "[encoded data removed]",
      "text/plain": [
       "Plot with title \"feat_used\""
      ]
     },
     "metadata": {
      "image/png": {
       "height": 840,
       "width": 840
      }
     },
     "output_type": "display_data"
    },
    {
     "data": {
      "image/png": "[encoded data removed]",
      "text/plain": [
       "Plot with title \"num_roles\""
      ]
     },
     "metadata": {
      "image/png": {
       "height": 840,
       "width": 840
      }
     },
     "output_type": "display_data"
    },
    {
     "data": {
      "image/png": "[encoded data removed]",
      "text/plain": [
       "Plot with title \"admin_prtl_use\""
      ]
     },
     "metadata": {
      "image/png": {
       "height": 840,
       "width": 840
      }
     },
     "output_type": "display_data"
    },
    {
     "data": {
      "image/png": "[encoded data removed]",
      "text/plain": [
       "Plot with title \"unq_snd_mng\""
      ]
     },
     "metadata": {
      "image/png": {
       "height": 840,
       "width": 840
      }
     },
     "output_type": "display_data"
    },
    {
     "data": {
      "image/png": "[encoded data removed]",
      "text/plain": [
       "Plot with title \"unq_snd_cmp\""
      ]
     },
     "metadata": {
      "image/png": {
       "height": 840,
       "width": 840
      }
     },
     "output_type": "display_data"
    },
    {
     "data": {
      "image/png": "[encoded data removed]",
      "text/plain": [
       "Plot with title \"rate_sat\""
      ]
     },
     "metadata": {
      "image/png": {
       "height": 840,
       "width": 840
      }
     },
     "output_type": "display_data"
    },
    {
     "data": {
      "image/png": "[encoded data removed]",
      "text/plain": [
       "Plot with title \"num_locs\""
      ]
     },
     "metadata": {
      "image/png": {
       "height": 840,
       "width": 840
      }
     },
     "output_type": "display_data"
    },
    {
     "data": {
      "image/png": "[encoded data removed]",
      "text/plain": [
       "Plot with title \"dept\""
      ]
     },
     "metadata": {
      "image/png": {
       "height": 840,
       "width": 840
      }
     },
     "output_type": "display_data"
    },
    {
     "data": {
      "image/png": "[encoded data removed]",
      "text/plain": [
       "Plot with title \"time_resp\""
      ]
     },
     "metadata": {
      "image/png": {
       "height": 840,
       "width": 840
      }
     },
     "output_type": "display_data"
    },
    {
     "data": {
      "image/png": "[encoded data removed]",
      "text/plain": [
       "Plot with title \"time_ds_tasks\""
      ]
     },
     "metadata": {
      "image/png": {
       "height": 840,
       "width": 840
      }
     },
     "output_type": "display_data"
    },
    {
     "data": {
      "image/png": "[encoded data removed]",
      "text/plain": [
       "Plot with title \"ds_expr\""
      ]
     },
     "metadata": {
      "image/png": {
       "height": 840,
       "width": 840
      }
     },
     "output_type": "display_data"
    },
    {
     "data": {
      "image/png": "[encoded data removed]",
      "text/plain": [
       "Plot with title \"ds_role\""
      ]
     },
     "metadata": {
      "image/png": {
       "height": 840,
       "width": 840
      }
     },
     "output_type": "display_data"
    },
    {
     "data": {
      "image/png": "[encoded data removed]",
      "text/plain": [
       "Plot with title \"ds_uni\""
      ]
     },
     "metadata": {
      "image/png": {
       "height": 840,
       "width": 840
      }
     },
     "output_type": "display_data"
    },
    {
     "data": {
      "image/png": "[encoded data removed]",
      "text/plain": [
       "Plot with title \"vert\""
      ]
     },
     "metadata": {
      "image/png": {
       "height": 840,
       "width": 840
      }
     },
     "output_type": "display_data"
    }
   ],
   "source": [
    "# Cluster Profiles \n",
    "clprofiles(kpres, df_all)"
   ]
  },
  {
   "cell_type": "code",
   "execution_count": null,
   "metadata": {},
   "outputs": [],
   "source": []
  }
 ],
 "metadata": {
  "kernelspec": {
   "display_name": "R",
   "language": "R",
   "name": "ir"
  },
  "language_info": {
   "codemirror_mode": "r",
   "file_extension": ".r",
   "mimetype": "text/x-r-source",
   "name": "R",
   "pygments_lexer": "r",
   "version": "4.0.3"
  }
 },
 "nbformat": 4,
 "nbformat_minor": 2
}
